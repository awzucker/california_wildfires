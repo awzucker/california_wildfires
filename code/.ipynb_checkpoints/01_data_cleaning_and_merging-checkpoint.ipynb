{
 "cells": [
  {
   "cell_type": "markdown",
   "metadata": {},
   "source": [
    "<img src=\"http://imgur.com/1ZcRyrc.png\" style=\"float: left; margin: 20px; height: 55px\">\n",
    "\n",
    "# Project 5 | Notebook 1: Data Cleaning & Merging\n",
    "\n",
    "### Carly Sharma, Jake Parker, & Adam Zucker"
   ]
  },
  {
   "cell_type": "markdown",
   "metadata": {},
   "source": [
    "**CONTENTS:**\n",
    "- California Wildfire Incidents dataset (from [Kaggle](https://www.kaggle.com/ananthu017/california-wildfire-incidents-20132020?select=California_Fire_Incidents.csv))\n",
    "- Meteorological data (from [NOAA](https://www.ncei.noaa.gov/metadata/geoportal/rest/metadata/item/gov.noaa.ncdc:C00946/html))\n",
    "- Atmospheric carbon level data (from [NOAA/Mauna Loa Observatory](https://www.esrl.noaa.gov/gmd/dv/data/index.php?parameter_name=Carbon%2BDioxide&search=mauna+loa))"
   ]
  },
  {
   "cell_type": "markdown",
   "metadata": {},
   "source": [
    "**BELOW:** Package imports"
   ]
  },
  {
   "cell_type": "code",
   "execution_count": 1,
   "metadata": {},
   "outputs": [],
   "source": [
    "import pandas as pd\n",
    "import numpy as np\n",
    "import matplotlib.pyplot as plt\n",
    "import seaborn as sns\n",
    "\n",
    "import geopandas as gpd\n",
    "import geopy\n",
    "from geopy.geocoders import Nominatim\n",
    "from geopy.extra.rate_limiter import RateLimiter\n",
    "import datetime"
   ]
  },
  {
   "cell_type": "markdown",
   "metadata": {},
   "source": [
    "---"
   ]
  },
  {
   "cell_type": "markdown",
   "metadata": {},
   "source": [
    "### NOAA Meteorological Data"
   ]
  },
  {
   "cell_type": "code",
   "execution_count": 2,
   "metadata": {},
   "outputs": [],
   "source": [
    "# Importing a series of NOAA datasets showing weather statistics in California from 2017 to present.\n",
    "df1 = pd.read_csv('../data_raw/df_2017_01_04.csv')\n",
    "df2 = pd.read_csv('../data_raw/df_2017_05_08.csv')\n",
    "df3 = pd.read_csv('../data_raw/df_2017_09_12.csv')\n",
    "df4 = pd.read_csv('../data_raw/df_2018_01_04.csv')\n",
    "df5 = pd.read_csv('../data_raw/df_2018_05_08.csv')\n",
    "df6 = pd.read_csv('../data_raw/df_2018_09_12.csv')\n",
    "df7 = pd.read_csv('../data_raw/df_2019_01_04.csv')\n",
    "df8 = pd.read_csv('../data_raw/df_2019_05_08.csv')\n",
    "df9 = pd.read_csv('../data_raw/df_2019_09_12.csv')\n",
    "df10 = pd.read_csv('../data_raw/df_2020_01_04.csv')\n",
    "df11 = pd.read_csv('../data_raw/df_2020_05_08.csv')\n",
    "df12 = pd.read_csv('../data_raw/df_2020_09_11.csv')"
   ]
  },
  {
   "cell_type": "code",
   "execution_count": 3,
   "metadata": {},
   "outputs": [
    {
     "data": {
      "text/plain": [
       "(46567, 60)"
      ]
     },
     "execution_count": 3,
     "metadata": {},
     "output_type": "execute_result"
    }
   ],
   "source": [
    "# Concatenating dfs in reverse chronological order\n",
    "noaa_df = pd.concat([df12, df11, df10, df9, df8, df7, df6, df5, df4, df3, df2, df1])\n",
    "noaa_df.shape"
   ]
  },
  {
   "cell_type": "code",
   "execution_count": 4,
   "metadata": {},
   "outputs": [
    {
     "name": "stdout",
     "output_type": "stream",
     "text": [
      "<class 'pandas.core.frame.DataFrame'>\n",
      "Int64Index: 46567 entries, 0 to 4291\n",
      "Data columns (total 60 columns):\n",
      " #   Column     Non-Null Count  Dtype  \n",
      "---  ------     --------------  -----  \n",
      " 0   STATION    46567 non-null  object \n",
      " 1   NAME       46567 non-null  object \n",
      " 2   LATITUDE   46567 non-null  float64\n",
      " 3   LONGITUDE  46567 non-null  float64\n",
      " 4   ELEVATION  46567 non-null  float64\n",
      " 5   DATE       46567 non-null  object \n",
      " 6   AWND       3523 non-null   float64\n",
      " 7   CDSD       23339 non-null  float64\n",
      " 8   CLDD       25371 non-null  float64\n",
      " 9   DP01       33320 non-null  float64\n",
      " 10  DP10       33320 non-null  float64\n",
      " 11  DSND       8426 non-null   float64\n",
      " 12  DSNW       14525 non-null  float64\n",
      " 13  DT00       25414 non-null  float64\n",
      " 14  DT32       25414 non-null  float64\n",
      " 15  DX32       25473 non-null  float64\n",
      " 16  DX70       25473 non-null  float64\n",
      " 17  DX90       25473 non-null  float64\n",
      " 18  EMNT       25414 non-null  float64\n",
      " 19  EMSD       8426 non-null   float64\n",
      " 20  EMSN       14525 non-null  float64\n",
      " 21  EMXP       33320 non-null  float64\n",
      " 22  EMXT       25473 non-null  float64\n",
      " 23  EVAP       520 non-null    float64\n",
      " 24  HDSD       23041 non-null  float64\n",
      " 25  HN01       44 non-null     float64\n",
      " 26  HN02       44 non-null     float64\n",
      " 27  HN03       44 non-null     float64\n",
      " 28  HTDD       25371 non-null  float64\n",
      " 29  HX01       44 non-null     float64\n",
      " 30  HX02       44 non-null     float64\n",
      " 31  HX03       44 non-null     float64\n",
      " 32  LN01       44 non-null     float64\n",
      " 33  LN02       44 non-null     float64\n",
      " 34  LN03       44 non-null     float64\n",
      " 35  LX01       44 non-null     float64\n",
      " 36  LX02       44 non-null     float64\n",
      " 37  LX03       44 non-null     float64\n",
      " 38  MN01       44 non-null     float64\n",
      " 39  MN02       44 non-null     float64\n",
      " 40  MN03       44 non-null     float64\n",
      " 41  MNPN       420 non-null    float64\n",
      " 42  MX01       44 non-null     float64\n",
      " 43  MX02       44 non-null     float64\n",
      " 44  MX03       44 non-null     float64\n",
      " 45  MXPN       423 non-null    float64\n",
      " 46  PRCP       34109 non-null  float64\n",
      " 47  SNOW       14525 non-null  float64\n",
      " 48  TAVG       25390 non-null  float64\n",
      " 49  TMAX       25473 non-null  float64\n",
      " 50  TMIN       25414 non-null  float64\n",
      " 51  WDF2       3446 non-null   float64\n",
      " 52  WDF5       3390 non-null   float64\n",
      " 53  WDFG       42 non-null     float64\n",
      " 54  WDMV       422 non-null    float64\n",
      " 55  WSF2       3446 non-null   float64\n",
      " 56  WSF5       3396 non-null   float64\n",
      " 57  WSFG       42 non-null     float64\n",
      " 58  PSUN       0 non-null      float64\n",
      " 59  TSUN       0 non-null      float64\n",
      "dtypes: float64(57), object(3)\n",
      "memory usage: 21.7+ MB\n"
     ]
    }
   ],
   "source": [
    "noaa_df.info()"
   ]
  },
  {
   "cell_type": "code",
   "execution_count": 5,
   "metadata": {},
   "outputs": [],
   "source": [
    "# Converting the contents of the 'DATE' column to datetime objects\n",
    "noaa_df['DATE'] = pd.to_datetime(noaa_df['DATE'])\n",
    "\n",
    "# Sorting df by date\n",
    "noaa_df = noaa_df.sort_values(by=['DATE'], ascending=False)\n",
    "\n",
    "# Resetting NOAA dataframe index\n",
    "noaa_df.reset_index(drop=True, inplace=True)"
   ]
  },
  {
   "cell_type": "code",
   "execution_count": 6,
   "metadata": {},
   "outputs": [
    {
     "data": {
      "text/html": [
       "<div>\n",
       "<style scoped>\n",
       "    .dataframe tbody tr th:only-of-type {\n",
       "        vertical-align: middle;\n",
       "    }\n",
       "\n",
       "    .dataframe tbody tr th {\n",
       "        vertical-align: top;\n",
       "    }\n",
       "\n",
       "    .dataframe thead th {\n",
       "        text-align: right;\n",
       "    }\n",
       "</style>\n",
       "<table border=\"1\" class=\"dataframe\">\n",
       "  <thead>\n",
       "    <tr style=\"text-align: right;\">\n",
       "      <th></th>\n",
       "      <th>STATION</th>\n",
       "      <th>NAME</th>\n",
       "      <th>LATITUDE</th>\n",
       "      <th>LONGITUDE</th>\n",
       "      <th>ELEVATION</th>\n",
       "      <th>DATE</th>\n",
       "      <th>AWND</th>\n",
       "      <th>CDSD</th>\n",
       "      <th>CLDD</th>\n",
       "      <th>DP01</th>\n",
       "      <th>...</th>\n",
       "      <th>TMIN</th>\n",
       "      <th>WDF2</th>\n",
       "      <th>WDF5</th>\n",
       "      <th>WDFG</th>\n",
       "      <th>WDMV</th>\n",
       "      <th>WSF2</th>\n",
       "      <th>WSF5</th>\n",
       "      <th>WSFG</th>\n",
       "      <th>PSUN</th>\n",
       "      <th>TSUN</th>\n",
       "    </tr>\n",
       "  </thead>\n",
       "  <tbody>\n",
       "    <tr>\n",
       "      <th>0</th>\n",
       "      <td>USW00023190</td>\n",
       "      <td>SANTA BARBARA MUNICIPAL AIRPORT, CA US</td>\n",
       "      <td>34.42580</td>\n",
       "      <td>-119.84250</td>\n",
       "      <td>2.7</td>\n",
       "      <td>2020-11-01</td>\n",
       "      <td>NaN</td>\n",
       "      <td>NaN</td>\n",
       "      <td>NaN</td>\n",
       "      <td>NaN</td>\n",
       "      <td>...</td>\n",
       "      <td>NaN</td>\n",
       "      <td>NaN</td>\n",
       "      <td>NaN</td>\n",
       "      <td>NaN</td>\n",
       "      <td>NaN</td>\n",
       "      <td>NaN</td>\n",
       "      <td>NaN</td>\n",
       "      <td>NaN</td>\n",
       "      <td>NaN</td>\n",
       "      <td>NaN</td>\n",
       "    </tr>\n",
       "    <tr>\n",
       "      <th>1</th>\n",
       "      <td>USW00023232</td>\n",
       "      <td>SACRAMENTO EXECUTIVE AIRPORT, CA US</td>\n",
       "      <td>38.50690</td>\n",
       "      <td>-121.49500</td>\n",
       "      <td>4.6</td>\n",
       "      <td>2020-11-01</td>\n",
       "      <td>NaN</td>\n",
       "      <td>NaN</td>\n",
       "      <td>NaN</td>\n",
       "      <td>NaN</td>\n",
       "      <td>...</td>\n",
       "      <td>NaN</td>\n",
       "      <td>NaN</td>\n",
       "      <td>NaN</td>\n",
       "      <td>NaN</td>\n",
       "      <td>NaN</td>\n",
       "      <td>NaN</td>\n",
       "      <td>NaN</td>\n",
       "      <td>NaN</td>\n",
       "      <td>NaN</td>\n",
       "      <td>NaN</td>\n",
       "    </tr>\n",
       "    <tr>\n",
       "      <th>2</th>\n",
       "      <td>USW00003171</td>\n",
       "      <td>RIVERSIDE MUNICIPAL AIRPORT, CA US</td>\n",
       "      <td>33.95194</td>\n",
       "      <td>-117.43861</td>\n",
       "      <td>245.2</td>\n",
       "      <td>2020-11-01</td>\n",
       "      <td>NaN</td>\n",
       "      <td>NaN</td>\n",
       "      <td>NaN</td>\n",
       "      <td>NaN</td>\n",
       "      <td>...</td>\n",
       "      <td>NaN</td>\n",
       "      <td>NaN</td>\n",
       "      <td>NaN</td>\n",
       "      <td>NaN</td>\n",
       "      <td>NaN</td>\n",
       "      <td>NaN</td>\n",
       "      <td>NaN</td>\n",
       "      <td>NaN</td>\n",
       "      <td>NaN</td>\n",
       "      <td>NaN</td>\n",
       "    </tr>\n",
       "  </tbody>\n",
       "</table>\n",
       "<p>3 rows × 60 columns</p>\n",
       "</div>"
      ],
      "text/plain": [
       "       STATION                                    NAME  LATITUDE  LONGITUDE  \\\n",
       "0  USW00023190  SANTA BARBARA MUNICIPAL AIRPORT, CA US  34.42580 -119.84250   \n",
       "1  USW00023232     SACRAMENTO EXECUTIVE AIRPORT, CA US  38.50690 -121.49500   \n",
       "2  USW00003171      RIVERSIDE MUNICIPAL AIRPORT, CA US  33.95194 -117.43861   \n",
       "\n",
       "   ELEVATION       DATE  AWND  CDSD  CLDD  DP01  ...  TMIN  WDF2  WDF5  WDFG  \\\n",
       "0        2.7 2020-11-01   NaN   NaN   NaN   NaN  ...   NaN   NaN   NaN   NaN   \n",
       "1        4.6 2020-11-01   NaN   NaN   NaN   NaN  ...   NaN   NaN   NaN   NaN   \n",
       "2      245.2 2020-11-01   NaN   NaN   NaN   NaN  ...   NaN   NaN   NaN   NaN   \n",
       "\n",
       "   WDMV  WSF2  WSF5  WSFG  PSUN  TSUN  \n",
       "0   NaN   NaN   NaN   NaN   NaN   NaN  \n",
       "1   NaN   NaN   NaN   NaN   NaN   NaN  \n",
       "2   NaN   NaN   NaN   NaN   NaN   NaN  \n",
       "\n",
       "[3 rows x 60 columns]"
      ]
     },
     "execution_count": 6,
     "metadata": {},
     "output_type": "execute_result"
    }
   ],
   "source": [
    "noaa_df.head(3)"
   ]
  },
  {
   "cell_type": "markdown",
   "metadata": {},
   "source": [
    "---"
   ]
  },
  {
   "cell_type": "markdown",
   "metadata": {},
   "source": [
    "**BELOW:** Defining a preliminary list of features to drop based on the NOAA data dictionary, as some features seemed to be either redundant, or not germane to our broader look at California wildfires. We also chose to drop features where over roughly 90% the values were null. We decided to make this a list of features for the sake of editability, rather than hard-code the list into the `.drop()` function in the following cells."
   ]
  },
  {
   "cell_type": "code",
   "execution_count": 7,
   "metadata": {},
   "outputs": [],
   "source": [
    "drops = ['HN01', 'HN02', 'HN03', 'HX01', 'HX02', 'HX03', 'LN01', 'LN02', 'LX01', 'LX02', 'LX03', 'LN03', 'MN01', 'MN02', 'MN03',\n",
    "         'MX01', 'MX02', 'MX03', 'PSUN', 'TSUN', 'WDF2', 'WDF5', 'WDFG', 'EVAP', 'MNPN', 'MXPN', 'WDMV']"
   ]
  },
  {
   "cell_type": "code",
   "execution_count": 8,
   "metadata": {},
   "outputs": [
    {
     "data": {
      "text/html": [
       "<div>\n",
       "<style scoped>\n",
       "    .dataframe tbody tr th:only-of-type {\n",
       "        vertical-align: middle;\n",
       "    }\n",
       "\n",
       "    .dataframe tbody tr th {\n",
       "        vertical-align: top;\n",
       "    }\n",
       "\n",
       "    .dataframe thead th {\n",
       "        text-align: right;\n",
       "    }\n",
       "</style>\n",
       "<table border=\"1\" class=\"dataframe\">\n",
       "  <thead>\n",
       "    <tr style=\"text-align: right;\">\n",
       "      <th></th>\n",
       "      <th>STATION</th>\n",
       "      <th>NAME</th>\n",
       "      <th>LATITUDE</th>\n",
       "      <th>LONGITUDE</th>\n",
       "      <th>ELEVATION</th>\n",
       "      <th>DATE</th>\n",
       "      <th>AWND</th>\n",
       "      <th>CDSD</th>\n",
       "      <th>CLDD</th>\n",
       "      <th>DP01</th>\n",
       "      <th>...</th>\n",
       "      <th>HDSD</th>\n",
       "      <th>HTDD</th>\n",
       "      <th>PRCP</th>\n",
       "      <th>SNOW</th>\n",
       "      <th>TAVG</th>\n",
       "      <th>TMAX</th>\n",
       "      <th>TMIN</th>\n",
       "      <th>WSF2</th>\n",
       "      <th>WSF5</th>\n",
       "      <th>WSFG</th>\n",
       "    </tr>\n",
       "  </thead>\n",
       "  <tbody>\n",
       "    <tr>\n",
       "      <th>0</th>\n",
       "      <td>USW00023190</td>\n",
       "      <td>SANTA BARBARA MUNICIPAL AIRPORT, CA US</td>\n",
       "      <td>34.42580</td>\n",
       "      <td>-119.84250</td>\n",
       "      <td>2.7</td>\n",
       "      <td>2020-11-01</td>\n",
       "      <td>NaN</td>\n",
       "      <td>NaN</td>\n",
       "      <td>NaN</td>\n",
       "      <td>NaN</td>\n",
       "      <td>...</td>\n",
       "      <td>NaN</td>\n",
       "      <td>NaN</td>\n",
       "      <td>NaN</td>\n",
       "      <td>NaN</td>\n",
       "      <td>NaN</td>\n",
       "      <td>NaN</td>\n",
       "      <td>NaN</td>\n",
       "      <td>NaN</td>\n",
       "      <td>NaN</td>\n",
       "      <td>NaN</td>\n",
       "    </tr>\n",
       "    <tr>\n",
       "      <th>1</th>\n",
       "      <td>USW00023232</td>\n",
       "      <td>SACRAMENTO EXECUTIVE AIRPORT, CA US</td>\n",
       "      <td>38.50690</td>\n",
       "      <td>-121.49500</td>\n",
       "      <td>4.6</td>\n",
       "      <td>2020-11-01</td>\n",
       "      <td>NaN</td>\n",
       "      <td>NaN</td>\n",
       "      <td>NaN</td>\n",
       "      <td>NaN</td>\n",
       "      <td>...</td>\n",
       "      <td>NaN</td>\n",
       "      <td>NaN</td>\n",
       "      <td>NaN</td>\n",
       "      <td>NaN</td>\n",
       "      <td>NaN</td>\n",
       "      <td>NaN</td>\n",
       "      <td>NaN</td>\n",
       "      <td>NaN</td>\n",
       "      <td>NaN</td>\n",
       "      <td>NaN</td>\n",
       "    </tr>\n",
       "    <tr>\n",
       "      <th>2</th>\n",
       "      <td>USW00003171</td>\n",
       "      <td>RIVERSIDE MUNICIPAL AIRPORT, CA US</td>\n",
       "      <td>33.95194</td>\n",
       "      <td>-117.43861</td>\n",
       "      <td>245.2</td>\n",
       "      <td>2020-11-01</td>\n",
       "      <td>NaN</td>\n",
       "      <td>NaN</td>\n",
       "      <td>NaN</td>\n",
       "      <td>NaN</td>\n",
       "      <td>...</td>\n",
       "      <td>NaN</td>\n",
       "      <td>NaN</td>\n",
       "      <td>NaN</td>\n",
       "      <td>NaN</td>\n",
       "      <td>NaN</td>\n",
       "      <td>NaN</td>\n",
       "      <td>NaN</td>\n",
       "      <td>NaN</td>\n",
       "      <td>NaN</td>\n",
       "      <td>NaN</td>\n",
       "    </tr>\n",
       "  </tbody>\n",
       "</table>\n",
       "<p>3 rows × 33 columns</p>\n",
       "</div>"
      ],
      "text/plain": [
       "       STATION                                    NAME  LATITUDE  LONGITUDE  \\\n",
       "0  USW00023190  SANTA BARBARA MUNICIPAL AIRPORT, CA US  34.42580 -119.84250   \n",
       "1  USW00023232     SACRAMENTO EXECUTIVE AIRPORT, CA US  38.50690 -121.49500   \n",
       "2  USW00003171      RIVERSIDE MUNICIPAL AIRPORT, CA US  33.95194 -117.43861   \n",
       "\n",
       "   ELEVATION       DATE  AWND  CDSD  CLDD  DP01  ...  HDSD  HTDD  PRCP  SNOW  \\\n",
       "0        2.7 2020-11-01   NaN   NaN   NaN   NaN  ...   NaN   NaN   NaN   NaN   \n",
       "1        4.6 2020-11-01   NaN   NaN   NaN   NaN  ...   NaN   NaN   NaN   NaN   \n",
       "2      245.2 2020-11-01   NaN   NaN   NaN   NaN  ...   NaN   NaN   NaN   NaN   \n",
       "\n",
       "   TAVG  TMAX  TMIN  WSF2  WSF5  WSFG  \n",
       "0   NaN   NaN   NaN   NaN   NaN   NaN  \n",
       "1   NaN   NaN   NaN   NaN   NaN   NaN  \n",
       "2   NaN   NaN   NaN   NaN   NaN   NaN  \n",
       "\n",
       "[3 rows x 33 columns]"
      ]
     },
     "execution_count": 8,
     "metadata": {},
     "output_type": "execute_result"
    }
   ],
   "source": [
    "noaa_df = noaa_df.drop(columns=drops)\n",
    "noaa_df.head(3)"
   ]
  },
  {
   "cell_type": "code",
   "execution_count": 9,
   "metadata": {},
   "outputs": [
    {
     "data": {
      "text/plain": [
       "STATION          0\n",
       "NAME             0\n",
       "LATITUDE         0\n",
       "LONGITUDE        0\n",
       "ELEVATION        0\n",
       "DATE             0\n",
       "AWND         43044\n",
       "CDSD         23228\n",
       "CLDD         21196\n",
       "DP01         13247\n",
       "DP10         13247\n",
       "DSND         38141\n",
       "DSNW         32042\n",
       "DT00         21153\n",
       "DT32         21153\n",
       "DX32         21094\n",
       "DX70         21094\n",
       "DX90         21094\n",
       "EMNT         21153\n",
       "EMSD         38141\n",
       "EMSN         32042\n",
       "EMXP         13247\n",
       "EMXT         21094\n",
       "HDSD         23526\n",
       "HTDD         21196\n",
       "PRCP         12458\n",
       "SNOW         32042\n",
       "TAVG         21177\n",
       "TMAX         21094\n",
       "TMIN         21153\n",
       "WSF2         43121\n",
       "WSF5         43171\n",
       "WSFG         46525\n",
       "dtype: int64"
      ]
     },
     "execution_count": 9,
     "metadata": {},
     "output_type": "execute_result"
    }
   ],
   "source": [
    "noaa_df.isnull().sum()"
   ]
  },
  {
   "cell_type": "markdown",
   "metadata": {},
   "source": [
    "**BELOW:** After further exploration of the data dictionary, creating a second list of redundant columns to drop."
   ]
  },
  {
   "cell_type": "code",
   "execution_count": 10,
   "metadata": {},
   "outputs": [],
   "source": [
    "redundants = ['CDSD', 'WSF2', 'WSF5', 'WSFG', 'DSNW', 'HDSD', 'EMSD']"
   ]
  },
  {
   "cell_type": "code",
   "execution_count": 11,
   "metadata": {},
   "outputs": [],
   "source": [
    "noaa_df = noaa_df.drop(columns=redundants)"
   ]
  },
  {
   "cell_type": "code",
   "execution_count": 12,
   "metadata": {},
   "outputs": [
    {
     "data": {
      "text/plain": [
       "Index(['STATION', 'NAME', 'LATITUDE', 'LONGITUDE', 'ELEVATION', 'DATE', 'AWND',\n",
       "       'CLDD', 'DP01', 'DP10', 'DSND', 'DT00', 'DT32', 'DX32', 'DX70', 'DX90',\n",
       "       'EMNT', 'EMSN', 'EMXP', 'EMXT', 'HTDD', 'PRCP', 'SNOW', 'TAVG', 'TMAX',\n",
       "       'TMIN'],\n",
       "      dtype='object')"
      ]
     },
     "execution_count": 12,
     "metadata": {},
     "output_type": "execute_result"
    }
   ],
   "source": [
    "noaa_df.columns"
   ]
  },
  {
   "cell_type": "markdown",
   "metadata": {},
   "source": [
    "---"
   ]
  },
  {
   "cell_type": "markdown",
   "metadata": {},
   "source": [
    "**BELOW:** Here, we're creating a column of counties corresponding to the latitude and longitude data in our dataframe."
   ]
  },
  {
   "cell_type": "code",
   "execution_count": 13,
   "metadata": {},
   "outputs": [
    {
     "data": {
      "text/plain": [
       "0    34.4258,-119.8425\n",
       "1     38.5069,-121.495\n",
       "Name: GEOM, dtype: object"
      ]
     },
     "execution_count": 13,
     "metadata": {},
     "output_type": "execute_result"
    }
   ],
   "source": [
    "# First, engineering a lat + long column\n",
    "noaa_df['GEOM'] = noaa_df['LATITUDE'].map(str) + ',' + noaa_df['LONGITUDE'].map(str)\n",
    "noaa_df['GEOM'][0:2]"
   ]
  },
  {
   "cell_type": "code",
   "execution_count": 14,
   "metadata": {},
   "outputs": [],
   "source": [
    "# Writing a function that creates a list of counties using the GEOM column\n",
    "# Reference: https://towardsdatascience.com/reverse-geocoding-in-python-a915acf29eb6\n",
    "# Reference: https://www.w3resource.com/python-exercises/geopy/python-geopy-nominatim_api-exercise-6.php\n",
    "\n",
    "def locate(coordinates):\n",
    "    locator = Nominatim(user_agent='myGeocoder')\n",
    "    location = []\n",
    "    for i in coordinates:\n",
    "        location.append(locator.reverse(i))\n",
    "    county_list = []\n",
    "    for n in location:\n",
    "        county_list.append(n.raw['address'].get('county'))\n",
    "    return county_list"
   ]
  },
  {
   "cell_type": "code",
   "execution_count": 15,
   "metadata": {},
   "outputs": [
    {
     "data": {
      "text/plain": [
       "1360"
      ]
     },
     "execution_count": 15,
     "metadata": {},
     "output_type": "execute_result"
    }
   ],
   "source": [
    "# Creating a list of all unique long and lat coordinates\n",
    "unique_coords = noaa_df['GEOM'].unique()\n",
    "len(unique_coords)"
   ]
  },
  {
   "cell_type": "markdown",
   "metadata": {},
   "source": [
    "**NOTE:** The `locate` function defined above times out when run on the entire set of longitude and latitude data, so we'll break it up into smaller sets below, then recombine them after we've extracted location data."
   ]
  },
  {
   "cell_type": "code",
   "execution_count": 16,
   "metadata": {},
   "outputs": [],
   "source": [
    "# Generating a list of counties using the function above\n",
    "# Running function for 400 values at a time\n",
    "county_list1 = locate(unique_coords[0:401])"
   ]
  },
  {
   "cell_type": "code",
   "execution_count": 17,
   "metadata": {},
   "outputs": [],
   "source": [
    "# Second batch\n",
    "county_list2 = locate(unique_coords[401:801])"
   ]
  },
  {
   "cell_type": "code",
   "execution_count": 18,
   "metadata": {},
   "outputs": [],
   "source": [
    "# Third batch\n",
    "county_list3 = locate(unique_coords[801:])"
   ]
  },
  {
   "cell_type": "code",
   "execution_count": 19,
   "metadata": {},
   "outputs": [
    {
     "name": "stdout",
     "output_type": "stream",
     "text": [
      "1360\n",
      "True\n"
     ]
    }
   ],
   "source": [
    "# Checking if total matches length of unique_coords list\n",
    "print(len(county_list1) + len(county_list2) + len(county_list3))\n",
    "print((len(county_list1) + len(county_list2) + len(county_list3)) == len(unique_coords))"
   ]
  },
  {
   "cell_type": "code",
   "execution_count": 20,
   "metadata": {},
   "outputs": [],
   "source": [
    "# Combining all counties into one list\n",
    "all_counties = county_list1 + county_list2 + county_list3\n",
    "\n",
    "# Creating a dictionary with unique_coords and all_counties\n",
    "county_dict = {unique_coords[i]: all_counties[i] for i in range(len(unique_coords))}"
   ]
  },
  {
   "cell_type": "code",
   "execution_count": 21,
   "metadata": {},
   "outputs": [],
   "source": [
    "# Mapping dictionary values onto our df\n",
    "noaa_df['COUNTY'] = noaa_df['GEOM'].map(county_dict)"
   ]
  },
  {
   "cell_type": "code",
   "execution_count": 22,
   "metadata": {},
   "outputs": [],
   "source": [
    "# Lowercasing 'COUNTY' for compatibility\n",
    "noaa_df['COUNTY'] = noaa_df['COUNTY'].str.lower()"
   ]
  },
  {
   "cell_type": "code",
   "execution_count": 23,
   "metadata": {},
   "outputs": [],
   "source": [
    "# Removing 'county' and white space for compatibility\n",
    "noaa_df['COUNTY'] = noaa_df['COUNTY'].str.replace(' county', '')"
   ]
  },
  {
   "cell_type": "code",
   "execution_count": 24,
   "metadata": {},
   "outputs": [
    {
     "data": {
      "text/html": [
       "<div>\n",
       "<style scoped>\n",
       "    .dataframe tbody tr th:only-of-type {\n",
       "        vertical-align: middle;\n",
       "    }\n",
       "\n",
       "    .dataframe tbody tr th {\n",
       "        vertical-align: top;\n",
       "    }\n",
       "\n",
       "    .dataframe thead th {\n",
       "        text-align: right;\n",
       "    }\n",
       "</style>\n",
       "<table border=\"1\" class=\"dataframe\">\n",
       "  <thead>\n",
       "    <tr style=\"text-align: right;\">\n",
       "      <th></th>\n",
       "      <th>STATION</th>\n",
       "      <th>NAME</th>\n",
       "      <th>LATITUDE</th>\n",
       "      <th>LONGITUDE</th>\n",
       "      <th>ELEVATION</th>\n",
       "      <th>DATE</th>\n",
       "      <th>AWND</th>\n",
       "      <th>CLDD</th>\n",
       "      <th>DP01</th>\n",
       "      <th>DP10</th>\n",
       "      <th>...</th>\n",
       "      <th>EMXP</th>\n",
       "      <th>EMXT</th>\n",
       "      <th>HTDD</th>\n",
       "      <th>PRCP</th>\n",
       "      <th>SNOW</th>\n",
       "      <th>TAVG</th>\n",
       "      <th>TMAX</th>\n",
       "      <th>TMIN</th>\n",
       "      <th>GEOM</th>\n",
       "      <th>COUNTY</th>\n",
       "    </tr>\n",
       "  </thead>\n",
       "  <tbody>\n",
       "    <tr>\n",
       "      <th>0</th>\n",
       "      <td>USW00023190</td>\n",
       "      <td>SANTA BARBARA MUNICIPAL AIRPORT, CA US</td>\n",
       "      <td>34.42580</td>\n",
       "      <td>-119.84250</td>\n",
       "      <td>2.7</td>\n",
       "      <td>2020-11-01</td>\n",
       "      <td>NaN</td>\n",
       "      <td>NaN</td>\n",
       "      <td>NaN</td>\n",
       "      <td>NaN</td>\n",
       "      <td>...</td>\n",
       "      <td>NaN</td>\n",
       "      <td>NaN</td>\n",
       "      <td>NaN</td>\n",
       "      <td>NaN</td>\n",
       "      <td>NaN</td>\n",
       "      <td>NaN</td>\n",
       "      <td>NaN</td>\n",
       "      <td>NaN</td>\n",
       "      <td>34.4258,-119.8425</td>\n",
       "      <td>santa barbara</td>\n",
       "    </tr>\n",
       "    <tr>\n",
       "      <th>1</th>\n",
       "      <td>USW00023232</td>\n",
       "      <td>SACRAMENTO EXECUTIVE AIRPORT, CA US</td>\n",
       "      <td>38.50690</td>\n",
       "      <td>-121.49500</td>\n",
       "      <td>4.6</td>\n",
       "      <td>2020-11-01</td>\n",
       "      <td>NaN</td>\n",
       "      <td>NaN</td>\n",
       "      <td>NaN</td>\n",
       "      <td>NaN</td>\n",
       "      <td>...</td>\n",
       "      <td>NaN</td>\n",
       "      <td>NaN</td>\n",
       "      <td>NaN</td>\n",
       "      <td>NaN</td>\n",
       "      <td>NaN</td>\n",
       "      <td>NaN</td>\n",
       "      <td>NaN</td>\n",
       "      <td>NaN</td>\n",
       "      <td>38.5069,-121.495</td>\n",
       "      <td>sacramento</td>\n",
       "    </tr>\n",
       "    <tr>\n",
       "      <th>2</th>\n",
       "      <td>USW00003171</td>\n",
       "      <td>RIVERSIDE MUNICIPAL AIRPORT, CA US</td>\n",
       "      <td>33.95194</td>\n",
       "      <td>-117.43861</td>\n",
       "      <td>245.2</td>\n",
       "      <td>2020-11-01</td>\n",
       "      <td>NaN</td>\n",
       "      <td>NaN</td>\n",
       "      <td>NaN</td>\n",
       "      <td>NaN</td>\n",
       "      <td>...</td>\n",
       "      <td>NaN</td>\n",
       "      <td>NaN</td>\n",
       "      <td>NaN</td>\n",
       "      <td>NaN</td>\n",
       "      <td>NaN</td>\n",
       "      <td>NaN</td>\n",
       "      <td>NaN</td>\n",
       "      <td>NaN</td>\n",
       "      <td>33.95194,-117.43861000000001</td>\n",
       "      <td>riverside</td>\n",
       "    </tr>\n",
       "    <tr>\n",
       "      <th>3</th>\n",
       "      <td>USW00023129</td>\n",
       "      <td>LONG BEACH DAUGHERTY AIRPORT, CA US</td>\n",
       "      <td>33.81160</td>\n",
       "      <td>-118.14630</td>\n",
       "      <td>9.4</td>\n",
       "      <td>2020-11-01</td>\n",
       "      <td>NaN</td>\n",
       "      <td>NaN</td>\n",
       "      <td>NaN</td>\n",
       "      <td>NaN</td>\n",
       "      <td>...</td>\n",
       "      <td>NaN</td>\n",
       "      <td>NaN</td>\n",
       "      <td>NaN</td>\n",
       "      <td>NaN</td>\n",
       "      <td>NaN</td>\n",
       "      <td>NaN</td>\n",
       "      <td>NaN</td>\n",
       "      <td>NaN</td>\n",
       "      <td>33.8116,-118.1463</td>\n",
       "      <td>los angeles</td>\n",
       "    </tr>\n",
       "    <tr>\n",
       "      <th>4</th>\n",
       "      <td>USW00093193</td>\n",
       "      <td>FRESNO YOSEMITE INTERNATIONAL, CA US</td>\n",
       "      <td>36.78000</td>\n",
       "      <td>-119.71940</td>\n",
       "      <td>101.5</td>\n",
       "      <td>2020-11-01</td>\n",
       "      <td>NaN</td>\n",
       "      <td>NaN</td>\n",
       "      <td>NaN</td>\n",
       "      <td>NaN</td>\n",
       "      <td>...</td>\n",
       "      <td>NaN</td>\n",
       "      <td>NaN</td>\n",
       "      <td>NaN</td>\n",
       "      <td>NaN</td>\n",
       "      <td>NaN</td>\n",
       "      <td>NaN</td>\n",
       "      <td>NaN</td>\n",
       "      <td>NaN</td>\n",
       "      <td>36.78,-119.7194</td>\n",
       "      <td>fresno</td>\n",
       "    </tr>\n",
       "  </tbody>\n",
       "</table>\n",
       "<p>5 rows × 28 columns</p>\n",
       "</div>"
      ],
      "text/plain": [
       "       STATION                                    NAME  LATITUDE  LONGITUDE  \\\n",
       "0  USW00023190  SANTA BARBARA MUNICIPAL AIRPORT, CA US  34.42580 -119.84250   \n",
       "1  USW00023232     SACRAMENTO EXECUTIVE AIRPORT, CA US  38.50690 -121.49500   \n",
       "2  USW00003171      RIVERSIDE MUNICIPAL AIRPORT, CA US  33.95194 -117.43861   \n",
       "3  USW00023129     LONG BEACH DAUGHERTY AIRPORT, CA US  33.81160 -118.14630   \n",
       "4  USW00093193    FRESNO YOSEMITE INTERNATIONAL, CA US  36.78000 -119.71940   \n",
       "\n",
       "   ELEVATION       DATE  AWND  CLDD  DP01  DP10  ...  EMXP  EMXT  HTDD  PRCP  \\\n",
       "0        2.7 2020-11-01   NaN   NaN   NaN   NaN  ...   NaN   NaN   NaN   NaN   \n",
       "1        4.6 2020-11-01   NaN   NaN   NaN   NaN  ...   NaN   NaN   NaN   NaN   \n",
       "2      245.2 2020-11-01   NaN   NaN   NaN   NaN  ...   NaN   NaN   NaN   NaN   \n",
       "3        9.4 2020-11-01   NaN   NaN   NaN   NaN  ...   NaN   NaN   NaN   NaN   \n",
       "4      101.5 2020-11-01   NaN   NaN   NaN   NaN  ...   NaN   NaN   NaN   NaN   \n",
       "\n",
       "   SNOW  TAVG  TMAX  TMIN                          GEOM         COUNTY  \n",
       "0   NaN   NaN   NaN   NaN             34.4258,-119.8425  santa barbara  \n",
       "1   NaN   NaN   NaN   NaN              38.5069,-121.495     sacramento  \n",
       "2   NaN   NaN   NaN   NaN  33.95194,-117.43861000000001      riverside  \n",
       "3   NaN   NaN   NaN   NaN             33.8116,-118.1463    los angeles  \n",
       "4   NaN   NaN   NaN   NaN               36.78,-119.7194         fresno  \n",
       "\n",
       "[5 rows x 28 columns]"
      ]
     },
     "execution_count": 24,
     "metadata": {},
     "output_type": "execute_result"
    }
   ],
   "source": [
    "noaa_df.head()"
   ]
  },
  {
   "cell_type": "code",
   "execution_count": 25,
   "metadata": {},
   "outputs": [
    {
     "data": {
      "text/plain": [
       "(46567, 28)"
      ]
     },
     "execution_count": 25,
     "metadata": {},
     "output_type": "execute_result"
    }
   ],
   "source": [
    "noaa_df.shape"
   ]
  },
  {
   "cell_type": "code",
   "execution_count": 26,
   "metadata": {},
   "outputs": [],
   "source": [
    "noaa_df.to_csv('../data_clean/noaa_df_clean.csv', index = False)"
   ]
  },
  {
   "cell_type": "markdown",
   "metadata": {},
   "source": [
    "---\n",
    "---"
   ]
  },
  {
   "cell_type": "markdown",
   "metadata": {},
   "source": [
    "### Kaggle CA Wildfire Data"
   ]
  },
  {
   "cell_type": "code",
   "execution_count": 27,
   "metadata": {},
   "outputs": [
    {
     "data": {
      "text/html": [
       "<div>\n",
       "<style scoped>\n",
       "    .dataframe tbody tr th:only-of-type {\n",
       "        vertical-align: middle;\n",
       "    }\n",
       "\n",
       "    .dataframe tbody tr th {\n",
       "        vertical-align: top;\n",
       "    }\n",
       "\n",
       "    .dataframe thead th {\n",
       "        text-align: right;\n",
       "    }\n",
       "</style>\n",
       "<table border=\"1\" class=\"dataframe\">\n",
       "  <thead>\n",
       "    <tr style=\"text-align: right;\">\n",
       "      <th></th>\n",
       "      <th>AcresBurned</th>\n",
       "      <th>Active</th>\n",
       "      <th>AdminUnit</th>\n",
       "      <th>AirTankers</th>\n",
       "      <th>ArchiveYear</th>\n",
       "      <th>CalFireIncident</th>\n",
       "      <th>CanonicalUrl</th>\n",
       "      <th>ConditionStatement</th>\n",
       "      <th>ControlStatement</th>\n",
       "      <th>Counties</th>\n",
       "      <th>...</th>\n",
       "      <th>SearchKeywords</th>\n",
       "      <th>Started</th>\n",
       "      <th>Status</th>\n",
       "      <th>StructuresDamaged</th>\n",
       "      <th>StructuresDestroyed</th>\n",
       "      <th>StructuresEvacuated</th>\n",
       "      <th>StructuresThreatened</th>\n",
       "      <th>UniqueId</th>\n",
       "      <th>Updated</th>\n",
       "      <th>WaterTenders</th>\n",
       "    </tr>\n",
       "  </thead>\n",
       "  <tbody>\n",
       "    <tr>\n",
       "      <th>0</th>\n",
       "      <td>257314.0</td>\n",
       "      <td>False</td>\n",
       "      <td>Stanislaus National Forest/Yosemite National Park</td>\n",
       "      <td>NaN</td>\n",
       "      <td>2013</td>\n",
       "      <td>True</td>\n",
       "      <td>/incidents/2013/8/17/rim-fire/</td>\n",
       "      <td>NaN</td>\n",
       "      <td>NaN</td>\n",
       "      <td>Tuolumne</td>\n",
       "      <td>...</td>\n",
       "      <td>Rim Fire, Stanislaus National Forest, Yosemite...</td>\n",
       "      <td>2013-08-17T15:25:00Z</td>\n",
       "      <td>Finalized</td>\n",
       "      <td>NaN</td>\n",
       "      <td>NaN</td>\n",
       "      <td>NaN</td>\n",
       "      <td>NaN</td>\n",
       "      <td>5fb18d4d-213f-4d83-a179-daaf11939e78</td>\n",
       "      <td>2013-09-06T18:30:00Z</td>\n",
       "      <td>NaN</td>\n",
       "    </tr>\n",
       "    <tr>\n",
       "      <th>1</th>\n",
       "      <td>30274.0</td>\n",
       "      <td>False</td>\n",
       "      <td>USFS Angeles National Forest/Los Angeles Count...</td>\n",
       "      <td>NaN</td>\n",
       "      <td>2013</td>\n",
       "      <td>True</td>\n",
       "      <td>/incidents/2013/5/30/powerhouse-fire/</td>\n",
       "      <td>NaN</td>\n",
       "      <td>NaN</td>\n",
       "      <td>Los Angeles</td>\n",
       "      <td>...</td>\n",
       "      <td>Powerhouse Fire, May 2013, June 2013, Angeles ...</td>\n",
       "      <td>2013-05-30T15:28:00Z</td>\n",
       "      <td>Finalized</td>\n",
       "      <td>NaN</td>\n",
       "      <td>NaN</td>\n",
       "      <td>NaN</td>\n",
       "      <td>NaN</td>\n",
       "      <td>bf37805e-1cc2-4208-9972-753e47874c87</td>\n",
       "      <td>2013-06-08T18:30:00Z</td>\n",
       "      <td>NaN</td>\n",
       "    </tr>\n",
       "    <tr>\n",
       "      <th>2</th>\n",
       "      <td>27531.0</td>\n",
       "      <td>False</td>\n",
       "      <td>CAL FIRE Riverside Unit / San Bernardino Natio...</td>\n",
       "      <td>NaN</td>\n",
       "      <td>2013</td>\n",
       "      <td>True</td>\n",
       "      <td>/incidents/2013/7/15/mountain-fire/</td>\n",
       "      <td>NaN</td>\n",
       "      <td>NaN</td>\n",
       "      <td>Riverside</td>\n",
       "      <td>...</td>\n",
       "      <td>Mountain Fire, July 2013, Highway 243, Highway...</td>\n",
       "      <td>2013-07-15T13:43:00Z</td>\n",
       "      <td>Finalized</td>\n",
       "      <td>NaN</td>\n",
       "      <td>NaN</td>\n",
       "      <td>NaN</td>\n",
       "      <td>NaN</td>\n",
       "      <td>a3149fec-4d48-427c-8b2c-59e8b79d59db</td>\n",
       "      <td>2013-07-30T18:00:00Z</td>\n",
       "      <td>NaN</td>\n",
       "    </tr>\n",
       "  </tbody>\n",
       "</table>\n",
       "<p>3 rows × 40 columns</p>\n",
       "</div>"
      ],
      "text/plain": [
       "   AcresBurned  Active                                          AdminUnit  \\\n",
       "0     257314.0   False  Stanislaus National Forest/Yosemite National Park   \n",
       "1      30274.0   False  USFS Angeles National Forest/Los Angeles Count...   \n",
       "2      27531.0   False  CAL FIRE Riverside Unit / San Bernardino Natio...   \n",
       "\n",
       "   AirTankers  ArchiveYear  CalFireIncident  \\\n",
       "0         NaN         2013             True   \n",
       "1         NaN         2013             True   \n",
       "2         NaN         2013             True   \n",
       "\n",
       "                            CanonicalUrl ConditionStatement ControlStatement  \\\n",
       "0         /incidents/2013/8/17/rim-fire/                NaN              NaN   \n",
       "1  /incidents/2013/5/30/powerhouse-fire/                NaN              NaN   \n",
       "2    /incidents/2013/7/15/mountain-fire/                NaN              NaN   \n",
       "\n",
       "      Counties  ...                                     SearchKeywords  \\\n",
       "0     Tuolumne  ...  Rim Fire, Stanislaus National Forest, Yosemite...   \n",
       "1  Los Angeles  ...  Powerhouse Fire, May 2013, June 2013, Angeles ...   \n",
       "2    Riverside  ...  Mountain Fire, July 2013, Highway 243, Highway...   \n",
       "\n",
       "                Started     Status  StructuresDamaged StructuresDestroyed  \\\n",
       "0  2013-08-17T15:25:00Z  Finalized                NaN                 NaN   \n",
       "1  2013-05-30T15:28:00Z  Finalized                NaN                 NaN   \n",
       "2  2013-07-15T13:43:00Z  Finalized                NaN                 NaN   \n",
       "\n",
       "   StructuresEvacuated  StructuresThreatened  \\\n",
       "0                  NaN                   NaN   \n",
       "1                  NaN                   NaN   \n",
       "2                  NaN                   NaN   \n",
       "\n",
       "                               UniqueId               Updated  WaterTenders  \n",
       "0  5fb18d4d-213f-4d83-a179-daaf11939e78  2013-09-06T18:30:00Z           NaN  \n",
       "1  bf37805e-1cc2-4208-9972-753e47874c87  2013-06-08T18:30:00Z           NaN  \n",
       "2  a3149fec-4d48-427c-8b2c-59e8b79d59db  2013-07-30T18:00:00Z           NaN  \n",
       "\n",
       "[3 rows x 40 columns]"
      ]
     },
     "execution_count": 27,
     "metadata": {},
     "output_type": "execute_result"
    }
   ],
   "source": [
    "fire_df = pd.read_csv('../data_raw/California_Fire_Incidents.csv')\n",
    "fire_df.head(3)"
   ]
  },
  {
   "cell_type": "code",
   "execution_count": 28,
   "metadata": {},
   "outputs": [
    {
     "data": {
      "text/plain": [
       "(1636, 40)"
      ]
     },
     "execution_count": 28,
     "metadata": {},
     "output_type": "execute_result"
    }
   ],
   "source": [
    "fire_df.shape"
   ]
  },
  {
   "cell_type": "code",
   "execution_count": 29,
   "metadata": {},
   "outputs": [
    {
     "data": {
      "text/plain": [
       "AcresBurned                3\n",
       "Active                     0\n",
       "AdminUnit                  0\n",
       "AirTankers              1608\n",
       "ArchiveYear                0\n",
       "CalFireIncident            0\n",
       "CanonicalUrl               0\n",
       "ConditionStatement      1352\n",
       "ControlStatement        1525\n",
       "Counties                   0\n",
       "CountyIds                  0\n",
       "CrewsInvolved           1465\n",
       "Dozers                  1513\n",
       "Engines                 1445\n",
       "Extinguished              59\n",
       "Fatalities              1615\n",
       "Featured                   0\n",
       "Final                      0\n",
       "FuelType                1624\n",
       "Helicopters             1552\n",
       "Injuries                1516\n",
       "Latitude                   0\n",
       "Location                   0\n",
       "Longitude                  0\n",
       "MajorIncident              0\n",
       "Name                       0\n",
       "PercentContained           3\n",
       "PersonnelInvolved       1432\n",
       "Public                     0\n",
       "SearchDescription         17\n",
       "SearchKeywords           203\n",
       "Started                    0\n",
       "Status                     0\n",
       "StructuresDamaged       1569\n",
       "StructuresDestroyed     1461\n",
       "StructuresEvacuated     1636\n",
       "StructuresThreatened    1606\n",
       "UniqueId                   0\n",
       "Updated                    0\n",
       "WaterTenders            1490\n",
       "dtype: int64"
      ]
     },
     "execution_count": 29,
     "metadata": {},
     "output_type": "execute_result"
    }
   ],
   "source": [
    "fire_df.isnull().sum()"
   ]
  },
  {
   "cell_type": "code",
   "execution_count": 30,
   "metadata": {},
   "outputs": [
    {
     "data": {
      "text/plain": [
       "True    1636\n",
       "Name: Public, dtype: int64"
      ]
     },
     "execution_count": 30,
     "metadata": {},
     "output_type": "execute_result"
    }
   ],
   "source": [
    "# All True, so we can drop this column - it won't affect the models down the road\n",
    "fire_df['Public'].value_counts()"
   ]
  },
  {
   "cell_type": "code",
   "execution_count": 31,
   "metadata": {},
   "outputs": [
    {
     "data": {
      "text/plain": [
       "True     1251\n",
       "False     385\n",
       "Name: CalFireIncident, dtype: int64"
      ]
     },
     "execution_count": 31,
     "metadata": {},
     "output_type": "execute_result"
    }
   ],
   "source": [
    "# We'll drop this column - it just determines if the fire was classified as a \"California Fire Incident\", which won't be a valuable predictor\n",
    "fire_df['CalFireIncident'].value_counts()"
   ]
  },
  {
   "cell_type": "code",
   "execution_count": 32,
   "metadata": {},
   "outputs": [
    {
     "data": {
      "text/plain": [
       "False    1636\n",
       "Name: Active, dtype: int64"
      ]
     },
     "execution_count": 32,
     "metadata": {},
     "output_type": "execute_result"
    }
   ],
   "source": [
    "# Will drop because all are False\n",
    "fire_df['Active'].value_counts()"
   ]
  },
  {
   "cell_type": "code",
   "execution_count": 33,
   "metadata": {},
   "outputs": [
    {
     "data": {
      "text/plain": [
       "90b0daf7-5d84-42d9-bb35-bb78d4faf950    4\n",
       "5ce45b6c-81b5-422c-9078-8c68dd872c8a    4\n",
       "af30fe23-6cfd-4fd6-b2d9-91648eeae814    3\n",
       "97ff14e8-6d08-4214-ad3b-847fa3a0e84a    2\n",
       "be79d28c-767d-4a0d-b168-e86a5842004f    2\n",
       "                                       ..\n",
       "50567f4a-c56d-4d73-9855-f5d81fa74025    1\n",
       "d922e7c8-814a-412b-a40b-53072d0983ea    1\n",
       "2c241790-d062-4b15-9a25-8e511c0febab    1\n",
       "791a3a00-2c51-4679-b4b7-27cc77ec699d    1\n",
       "45845135-0abc-4964-9038-db1e26fa9b22    1\n",
       "Name: UniqueId, Length: 1609, dtype: int64"
      ]
     },
     "execution_count": 33,
     "metadata": {},
     "output_type": "execute_result"
    }
   ],
   "source": [
    "# Will drop this too\n",
    "fire_df['UniqueId'].value_counts()"
   ]
  },
  {
   "cell_type": "code",
   "execution_count": 34,
   "metadata": {},
   "outputs": [
    {
     "data": {
      "text/plain": [
       "Finalized    1634\n",
       "Inactive        2\n",
       "Name: Status, dtype: int64"
      ]
     },
     "execution_count": 34,
     "metadata": {},
     "output_type": "execute_result"
    }
   ],
   "source": [
    "# Will drop this too\n",
    "fire_df['Status'].value_counts()"
   ]
  },
  {
   "cell_type": "markdown",
   "metadata": {},
   "source": [
    "**BELOW:** Defining a preliminary list of features to drop based on a high percentage of nulls, and relevancy to our topic. We decided to make this a list of features for the sake of editability, rather than hard-code the list into the `drop` function in the following cells."
   ]
  },
  {
   "cell_type": "code",
   "execution_count": 35,
   "metadata": {},
   "outputs": [],
   "source": [
    "fire_drops = ['Active', 'AirTankers', 'CalFireIncident', 'CanonicalUrl', 'ConditionStatement', 'ControlStatement', 'CrewsInvolved',  \n",
    "              'Dozers', 'Engines', 'Fatalities', 'Featured', 'Final', 'FuelType', 'Helicopters', 'Injuries', 'Location', 'PersonnelInvolved',  \n",
    "              'Public', 'SearchDescription', 'SearchKeywords', 'Status', 'StructuresDamaged', 'StructuresDestroyed', 'StructuresEvacuated', \n",
    "              'StructuresThreatened', 'UniqueId', 'Updated', 'WaterTenders']"
   ]
  },
  {
   "cell_type": "code",
   "execution_count": 36,
   "metadata": {},
   "outputs": [
    {
     "data": {
      "text/html": [
       "<div>\n",
       "<style scoped>\n",
       "    .dataframe tbody tr th:only-of-type {\n",
       "        vertical-align: middle;\n",
       "    }\n",
       "\n",
       "    .dataframe tbody tr th {\n",
       "        vertical-align: top;\n",
       "    }\n",
       "\n",
       "    .dataframe thead th {\n",
       "        text-align: right;\n",
       "    }\n",
       "</style>\n",
       "<table border=\"1\" class=\"dataframe\">\n",
       "  <thead>\n",
       "    <tr style=\"text-align: right;\">\n",
       "      <th></th>\n",
       "      <th>AcresBurned</th>\n",
       "      <th>AdminUnit</th>\n",
       "      <th>ArchiveYear</th>\n",
       "      <th>Counties</th>\n",
       "      <th>CountyIds</th>\n",
       "      <th>Extinguished</th>\n",
       "      <th>Latitude</th>\n",
       "      <th>Longitude</th>\n",
       "      <th>MajorIncident</th>\n",
       "      <th>Name</th>\n",
       "      <th>PercentContained</th>\n",
       "      <th>Started</th>\n",
       "    </tr>\n",
       "  </thead>\n",
       "  <tbody>\n",
       "    <tr>\n",
       "      <th>0</th>\n",
       "      <td>257314.0</td>\n",
       "      <td>Stanislaus National Forest/Yosemite National Park</td>\n",
       "      <td>2013</td>\n",
       "      <td>Tuolumne</td>\n",
       "      <td>55</td>\n",
       "      <td>2013-09-06T18:30:00Z</td>\n",
       "      <td>37.857000</td>\n",
       "      <td>-120.086000</td>\n",
       "      <td>False</td>\n",
       "      <td>Rim Fire</td>\n",
       "      <td>100.0</td>\n",
       "      <td>2013-08-17T15:25:00Z</td>\n",
       "    </tr>\n",
       "    <tr>\n",
       "      <th>1</th>\n",
       "      <td>30274.0</td>\n",
       "      <td>USFS Angeles National Forest/Los Angeles Count...</td>\n",
       "      <td>2013</td>\n",
       "      <td>Los Angeles</td>\n",
       "      <td>19</td>\n",
       "      <td>2013-06-08T18:30:00Z</td>\n",
       "      <td>34.585595</td>\n",
       "      <td>-118.423176</td>\n",
       "      <td>False</td>\n",
       "      <td>Powerhouse Fire</td>\n",
       "      <td>100.0</td>\n",
       "      <td>2013-05-30T15:28:00Z</td>\n",
       "    </tr>\n",
       "    <tr>\n",
       "      <th>2</th>\n",
       "      <td>27531.0</td>\n",
       "      <td>CAL FIRE Riverside Unit / San Bernardino Natio...</td>\n",
       "      <td>2013</td>\n",
       "      <td>Riverside</td>\n",
       "      <td>33</td>\n",
       "      <td>2013-07-30T18:00:00Z</td>\n",
       "      <td>33.709500</td>\n",
       "      <td>-116.728850</td>\n",
       "      <td>False</td>\n",
       "      <td>Mountain Fire</td>\n",
       "      <td>100.0</td>\n",
       "      <td>2013-07-15T13:43:00Z</td>\n",
       "    </tr>\n",
       "  </tbody>\n",
       "</table>\n",
       "</div>"
      ],
      "text/plain": [
       "   AcresBurned                                          AdminUnit  \\\n",
       "0     257314.0  Stanislaus National Forest/Yosemite National Park   \n",
       "1      30274.0  USFS Angeles National Forest/Los Angeles Count...   \n",
       "2      27531.0  CAL FIRE Riverside Unit / San Bernardino Natio...   \n",
       "\n",
       "   ArchiveYear     Counties CountyIds          Extinguished   Latitude  \\\n",
       "0         2013     Tuolumne        55  2013-09-06T18:30:00Z  37.857000   \n",
       "1         2013  Los Angeles        19  2013-06-08T18:30:00Z  34.585595   \n",
       "2         2013    Riverside        33  2013-07-30T18:00:00Z  33.709500   \n",
       "\n",
       "    Longitude  MajorIncident             Name  PercentContained  \\\n",
       "0 -120.086000          False         Rim Fire             100.0   \n",
       "1 -118.423176          False  Powerhouse Fire             100.0   \n",
       "2 -116.728850          False    Mountain Fire             100.0   \n",
       "\n",
       "                Started  \n",
       "0  2013-08-17T15:25:00Z  \n",
       "1  2013-05-30T15:28:00Z  \n",
       "2  2013-07-15T13:43:00Z  "
      ]
     },
     "execution_count": 36,
     "metadata": {},
     "output_type": "execute_result"
    }
   ],
   "source": [
    "fire_df = fire_df.drop(columns=fire_drops)\n",
    "fire_df.head(3)"
   ]
  },
  {
   "cell_type": "code",
   "execution_count": 37,
   "metadata": {},
   "outputs": [
    {
     "data": {
      "text/plain": [
       "AcresBurned          3\n",
       "AdminUnit            0\n",
       "ArchiveYear          0\n",
       "Counties             0\n",
       "CountyIds            0\n",
       "Extinguished        59\n",
       "Latitude             0\n",
       "Longitude            0\n",
       "MajorIncident        0\n",
       "Name                 0\n",
       "PercentContained     3\n",
       "Started              0\n",
       "dtype: int64"
      ]
     },
     "execution_count": 37,
     "metadata": {},
     "output_type": "execute_result"
    }
   ],
   "source": [
    "fire_df.isnull().sum()"
   ]
  },
  {
   "cell_type": "code",
   "execution_count": 38,
   "metadata": {},
   "outputs": [],
   "source": [
    "# Lowercasing abd renaming 'Counties' for compatibility\n",
    "fire_df['Counties'] = fire_df['Counties'].str.lower()\n",
    "\n",
    "fire_df = fire_df.rename(columns={'Counties': 'COUNTY'})"
   ]
  },
  {
   "cell_type": "code",
   "execution_count": 39,
   "metadata": {},
   "outputs": [],
   "source": [
    "# Converting the contents of the 'DATE' column to datetime objects\n",
    "fire_df['Started'] = pd.to_datetime(fire_df['Started'])\n",
    "fire_df['Extinguished'] = pd.to_datetime(fire_df['Extinguished'])"
   ]
  },
  {
   "cell_type": "code",
   "execution_count": 40,
   "metadata": {},
   "outputs": [],
   "source": [
    "# Creating a feature to reflect the duration of each fire\n",
    "fire_df['Duration'] = fire_df['Extinguished'] - fire_df['Started']"
   ]
  },
  {
   "cell_type": "code",
   "execution_count": 41,
   "metadata": {},
   "outputs": [
    {
     "data": {
      "text/plain": [
       "AcresBurned                     float64\n",
       "AdminUnit                        object\n",
       "ArchiveYear                       int64\n",
       "COUNTY                           object\n",
       "CountyIds                        object\n",
       "Extinguished        datetime64[ns, UTC]\n",
       "Latitude                        float64\n",
       "Longitude                       float64\n",
       "MajorIncident                      bool\n",
       "Name                             object\n",
       "PercentContained                float64\n",
       "Started             datetime64[ns, UTC]\n",
       "Duration                timedelta64[ns]\n",
       "dtype: object"
      ]
     },
     "execution_count": 41,
     "metadata": {},
     "output_type": "execute_result"
    }
   ],
   "source": [
    "fire_df.dtypes"
   ]
  },
  {
   "cell_type": "code",
   "execution_count": 42,
   "metadata": {},
   "outputs": [],
   "source": [
    "# Reorganizing df columns\n",
    "fire_df = fire_df[['CountyIds', 'COUNTY', 'Latitude', 'Longitude', 'AdminUnit', 'Name', 'AcresBurned', 'Started',  \n",
    "                   'Extinguished', 'Duration', 'ArchiveYear', 'PercentContained', 'MajorIncident']]"
   ]
  },
  {
   "cell_type": "code",
   "execution_count": 43,
   "metadata": {},
   "outputs": [
    {
     "data": {
      "text/html": [
       "<div>\n",
       "<style scoped>\n",
       "    .dataframe tbody tr th:only-of-type {\n",
       "        vertical-align: middle;\n",
       "    }\n",
       "\n",
       "    .dataframe tbody tr th {\n",
       "        vertical-align: top;\n",
       "    }\n",
       "\n",
       "    .dataframe thead th {\n",
       "        text-align: right;\n",
       "    }\n",
       "</style>\n",
       "<table border=\"1\" class=\"dataframe\">\n",
       "  <thead>\n",
       "    <tr style=\"text-align: right;\">\n",
       "      <th></th>\n",
       "      <th>CountyIds</th>\n",
       "      <th>COUNTY</th>\n",
       "      <th>Latitude</th>\n",
       "      <th>Longitude</th>\n",
       "      <th>AdminUnit</th>\n",
       "      <th>Name</th>\n",
       "      <th>AcresBurned</th>\n",
       "      <th>Started</th>\n",
       "      <th>Extinguished</th>\n",
       "      <th>Duration</th>\n",
       "      <th>ArchiveYear</th>\n",
       "      <th>PercentContained</th>\n",
       "      <th>MajorIncident</th>\n",
       "    </tr>\n",
       "  </thead>\n",
       "  <tbody>\n",
       "    <tr>\n",
       "      <th>0</th>\n",
       "      <td>55</td>\n",
       "      <td>tuolumne</td>\n",
       "      <td>37.857000</td>\n",
       "      <td>-120.086000</td>\n",
       "      <td>Stanislaus National Forest/Yosemite National Park</td>\n",
       "      <td>Rim Fire</td>\n",
       "      <td>257314.0</td>\n",
       "      <td>2013-08-17 15:25:00+00:00</td>\n",
       "      <td>2013-09-06 18:30:00+00:00</td>\n",
       "      <td>20 days 03:05:00</td>\n",
       "      <td>2013</td>\n",
       "      <td>100.0</td>\n",
       "      <td>False</td>\n",
       "    </tr>\n",
       "    <tr>\n",
       "      <th>1</th>\n",
       "      <td>19</td>\n",
       "      <td>los angeles</td>\n",
       "      <td>34.585595</td>\n",
       "      <td>-118.423176</td>\n",
       "      <td>USFS Angeles National Forest/Los Angeles Count...</td>\n",
       "      <td>Powerhouse Fire</td>\n",
       "      <td>30274.0</td>\n",
       "      <td>2013-05-30 15:28:00+00:00</td>\n",
       "      <td>2013-06-08 18:30:00+00:00</td>\n",
       "      <td>9 days 03:02:00</td>\n",
       "      <td>2013</td>\n",
       "      <td>100.0</td>\n",
       "      <td>False</td>\n",
       "    </tr>\n",
       "    <tr>\n",
       "      <th>2</th>\n",
       "      <td>33</td>\n",
       "      <td>riverside</td>\n",
       "      <td>33.709500</td>\n",
       "      <td>-116.728850</td>\n",
       "      <td>CAL FIRE Riverside Unit / San Bernardino Natio...</td>\n",
       "      <td>Mountain Fire</td>\n",
       "      <td>27531.0</td>\n",
       "      <td>2013-07-15 13:43:00+00:00</td>\n",
       "      <td>2013-07-30 18:00:00+00:00</td>\n",
       "      <td>15 days 04:17:00</td>\n",
       "      <td>2013</td>\n",
       "      <td>100.0</td>\n",
       "      <td>False</td>\n",
       "    </tr>\n",
       "  </tbody>\n",
       "</table>\n",
       "</div>"
      ],
      "text/plain": [
       "  CountyIds       COUNTY   Latitude   Longitude  \\\n",
       "0        55     tuolumne  37.857000 -120.086000   \n",
       "1        19  los angeles  34.585595 -118.423176   \n",
       "2        33    riverside  33.709500 -116.728850   \n",
       "\n",
       "                                           AdminUnit             Name  \\\n",
       "0  Stanislaus National Forest/Yosemite National Park         Rim Fire   \n",
       "1  USFS Angeles National Forest/Los Angeles Count...  Powerhouse Fire   \n",
       "2  CAL FIRE Riverside Unit / San Bernardino Natio...    Mountain Fire   \n",
       "\n",
       "   AcresBurned                   Started              Extinguished  \\\n",
       "0     257314.0 2013-08-17 15:25:00+00:00 2013-09-06 18:30:00+00:00   \n",
       "1      30274.0 2013-05-30 15:28:00+00:00 2013-06-08 18:30:00+00:00   \n",
       "2      27531.0 2013-07-15 13:43:00+00:00 2013-07-30 18:00:00+00:00   \n",
       "\n",
       "          Duration  ArchiveYear  PercentContained  MajorIncident  \n",
       "0 20 days 03:05:00         2013             100.0          False  \n",
       "1  9 days 03:02:00         2013             100.0          False  \n",
       "2 15 days 04:17:00         2013             100.0          False  "
      ]
     },
     "execution_count": 43,
     "metadata": {},
     "output_type": "execute_result"
    }
   ],
   "source": [
    "fire_df.head(3)"
   ]
  },
  {
   "cell_type": "code",
   "execution_count": 44,
   "metadata": {},
   "outputs": [
    {
     "data": {
      "text/plain": [
       "CountyIds            0\n",
       "COUNTY               0\n",
       "Latitude             0\n",
       "Longitude            0\n",
       "AdminUnit            0\n",
       "Name                 0\n",
       "AcresBurned          3\n",
       "Started              0\n",
       "Extinguished        59\n",
       "Duration            59\n",
       "ArchiveYear          0\n",
       "PercentContained     3\n",
       "MajorIncident        0\n",
       "dtype: int64"
      ]
     },
     "execution_count": 44,
     "metadata": {},
     "output_type": "execute_result"
    }
   ],
   "source": [
    "fire_df.isnull().sum()"
   ]
  },
  {
   "cell_type": "code",
   "execution_count": 45,
   "metadata": {},
   "outputs": [
    {
     "data": {
      "text/plain": [
       "(1636, 13)"
      ]
     },
     "execution_count": 45,
     "metadata": {},
     "output_type": "execute_result"
    }
   ],
   "source": [
    "fire_df.shape"
   ]
  },
  {
   "cell_type": "code",
   "execution_count": 46,
   "metadata": {},
   "outputs": [],
   "source": [
    "fire_df.to_csv('../data_clean/fire_df_clean.csv', index = False)"
   ]
  },
  {
   "cell_type": "markdown",
   "metadata": {},
   "source": [
    "---\n",
    "---"
   ]
  },
  {
   "cell_type": "markdown",
   "metadata": {},
   "source": [
    "### NOAA/Mauna Loa Atmospheric Carbon Data"
   ]
  },
  {
   "cell_type": "code",
   "execution_count": 47,
   "metadata": {},
   "outputs": [],
   "source": [
    "# Reading in carbon txt data, specifying a space as the separator.\n",
    "carbon_df = pd.read_csv('../data_raw/co2_mlo_surface-insitu_DailyData.txt', sep=' ', header=None)\n",
    "carbon_df.columns = ['site_code', 'year', 'month', 'day', 'hour', 'minute', 'second', 'time_decimal',\n",
    "             'value', 'value_std_dev', 'nvalue', 'latitude', 'longitude', 'altitude', 'elevation', 'intake_height', 'qcflag']"
   ]
  },
  {
   "cell_type": "code",
   "execution_count": 48,
   "metadata": {},
   "outputs": [
    {
     "data": {
      "text/html": [
       "<div>\n",
       "<style scoped>\n",
       "    .dataframe tbody tr th:only-of-type {\n",
       "        vertical-align: middle;\n",
       "    }\n",
       "\n",
       "    .dataframe tbody tr th {\n",
       "        vertical-align: top;\n",
       "    }\n",
       "\n",
       "    .dataframe thead th {\n",
       "        text-align: right;\n",
       "    }\n",
       "</style>\n",
       "<table border=\"1\" class=\"dataframe\">\n",
       "  <thead>\n",
       "    <tr style=\"text-align: right;\">\n",
       "      <th></th>\n",
       "      <th>site_code</th>\n",
       "      <th>year</th>\n",
       "      <th>month</th>\n",
       "      <th>day</th>\n",
       "      <th>hour</th>\n",
       "      <th>minute</th>\n",
       "      <th>second</th>\n",
       "      <th>time_decimal</th>\n",
       "      <th>value</th>\n",
       "      <th>value_std_dev</th>\n",
       "      <th>nvalue</th>\n",
       "      <th>latitude</th>\n",
       "      <th>longitude</th>\n",
       "      <th>altitude</th>\n",
       "      <th>elevation</th>\n",
       "      <th>intake_height</th>\n",
       "      <th>qcflag</th>\n",
       "    </tr>\n",
       "  </thead>\n",
       "  <tbody>\n",
       "    <tr>\n",
       "      <th>0</th>\n",
       "      <td>MLO</td>\n",
       "      <td>1973</td>\n",
       "      <td>1</td>\n",
       "      <td>1</td>\n",
       "      <td>0</td>\n",
       "      <td>0</td>\n",
       "      <td>0</td>\n",
       "      <td>1973.000000</td>\n",
       "      <td>-999.99</td>\n",
       "      <td>-99.99</td>\n",
       "      <td>0</td>\n",
       "      <td>19.536</td>\n",
       "      <td>-155.576</td>\n",
       "      <td>3437.0</td>\n",
       "      <td>3397.0</td>\n",
       "      <td>40.0</td>\n",
       "      <td>*..</td>\n",
       "    </tr>\n",
       "    <tr>\n",
       "      <th>1</th>\n",
       "      <td>MLO</td>\n",
       "      <td>1973</td>\n",
       "      <td>1</td>\n",
       "      <td>2</td>\n",
       "      <td>0</td>\n",
       "      <td>0</td>\n",
       "      <td>0</td>\n",
       "      <td>1973.002740</td>\n",
       "      <td>-999.99</td>\n",
       "      <td>-99.99</td>\n",
       "      <td>0</td>\n",
       "      <td>19.536</td>\n",
       "      <td>-155.576</td>\n",
       "      <td>3437.0</td>\n",
       "      <td>3397.0</td>\n",
       "      <td>40.0</td>\n",
       "      <td>*..</td>\n",
       "    </tr>\n",
       "    <tr>\n",
       "      <th>2</th>\n",
       "      <td>MLO</td>\n",
       "      <td>1973</td>\n",
       "      <td>1</td>\n",
       "      <td>3</td>\n",
       "      <td>0</td>\n",
       "      <td>0</td>\n",
       "      <td>0</td>\n",
       "      <td>1973.005479</td>\n",
       "      <td>-999.99</td>\n",
       "      <td>-99.99</td>\n",
       "      <td>0</td>\n",
       "      <td>19.536</td>\n",
       "      <td>-155.576</td>\n",
       "      <td>3437.0</td>\n",
       "      <td>3397.0</td>\n",
       "      <td>40.0</td>\n",
       "      <td>*..</td>\n",
       "    </tr>\n",
       "  </tbody>\n",
       "</table>\n",
       "</div>"
      ],
      "text/plain": [
       "  site_code  year  month  day  hour  minute  second  time_decimal   value  \\\n",
       "0       MLO  1973      1    1     0       0       0   1973.000000 -999.99   \n",
       "1       MLO  1973      1    2     0       0       0   1973.002740 -999.99   \n",
       "2       MLO  1973      1    3     0       0       0   1973.005479 -999.99   \n",
       "\n",
       "   value_std_dev  nvalue  latitude  longitude  altitude  elevation  \\\n",
       "0         -99.99       0    19.536   -155.576    3437.0     3397.0   \n",
       "1         -99.99       0    19.536   -155.576    3437.0     3397.0   \n",
       "2         -99.99       0    19.536   -155.576    3437.0     3397.0   \n",
       "\n",
       "   intake_height qcflag  \n",
       "0           40.0    *..  \n",
       "1           40.0    *..  \n",
       "2           40.0    *..  "
      ]
     },
     "execution_count": 48,
     "metadata": {},
     "output_type": "execute_result"
    }
   ],
   "source": [
    "carbon_df.head(3)"
   ]
  },
  {
   "cell_type": "code",
   "execution_count": 49,
   "metadata": {},
   "outputs": [],
   "source": [
    "# Dropping data from years prior to 2000\n",
    "carbon_df = carbon_df[(carbon_df['year'] >= 2000)]"
   ]
  },
  {
   "cell_type": "code",
   "execution_count": 50,
   "metadata": {},
   "outputs": [],
   "source": [
    "# Resetting carbon dataframe index\n",
    "carbon_df.reset_index(drop=True, inplace=True)"
   ]
  },
  {
   "cell_type": "code",
   "execution_count": 51,
   "metadata": {},
   "outputs": [
    {
     "data": {
      "text/html": [
       "<div>\n",
       "<style scoped>\n",
       "    .dataframe tbody tr th:only-of-type {\n",
       "        vertical-align: middle;\n",
       "    }\n",
       "\n",
       "    .dataframe tbody tr th {\n",
       "        vertical-align: top;\n",
       "    }\n",
       "\n",
       "    .dataframe thead th {\n",
       "        text-align: right;\n",
       "    }\n",
       "</style>\n",
       "<table border=\"1\" class=\"dataframe\">\n",
       "  <thead>\n",
       "    <tr style=\"text-align: right;\">\n",
       "      <th></th>\n",
       "      <th>site_code</th>\n",
       "      <th>year</th>\n",
       "      <th>month</th>\n",
       "      <th>day</th>\n",
       "      <th>hour</th>\n",
       "      <th>minute</th>\n",
       "      <th>second</th>\n",
       "      <th>time_decimal</th>\n",
       "      <th>value</th>\n",
       "      <th>value_std_dev</th>\n",
       "      <th>nvalue</th>\n",
       "      <th>latitude</th>\n",
       "      <th>longitude</th>\n",
       "      <th>altitude</th>\n",
       "      <th>elevation</th>\n",
       "      <th>intake_height</th>\n",
       "      <th>qcflag</th>\n",
       "    </tr>\n",
       "  </thead>\n",
       "  <tbody>\n",
       "    <tr>\n",
       "      <th>0</th>\n",
       "      <td>MLO</td>\n",
       "      <td>2000</td>\n",
       "      <td>1</td>\n",
       "      <td>1</td>\n",
       "      <td>0</td>\n",
       "      <td>0</td>\n",
       "      <td>0</td>\n",
       "      <td>2000.000000</td>\n",
       "      <td>368.84</td>\n",
       "      <td>0.09</td>\n",
       "      <td>15</td>\n",
       "      <td>19.536</td>\n",
       "      <td>-155.576</td>\n",
       "      <td>3437.0</td>\n",
       "      <td>3397.0</td>\n",
       "      <td>40.0</td>\n",
       "      <td>...</td>\n",
       "    </tr>\n",
       "    <tr>\n",
       "      <th>1</th>\n",
       "      <td>MLO</td>\n",
       "      <td>2000</td>\n",
       "      <td>1</td>\n",
       "      <td>2</td>\n",
       "      <td>0</td>\n",
       "      <td>0</td>\n",
       "      <td>0</td>\n",
       "      <td>2000.002732</td>\n",
       "      <td>368.82</td>\n",
       "      <td>0.16</td>\n",
       "      <td>13</td>\n",
       "      <td>19.536</td>\n",
       "      <td>-155.576</td>\n",
       "      <td>3437.0</td>\n",
       "      <td>3397.0</td>\n",
       "      <td>40.0</td>\n",
       "      <td>...</td>\n",
       "    </tr>\n",
       "    <tr>\n",
       "      <th>2</th>\n",
       "      <td>MLO</td>\n",
       "      <td>2000</td>\n",
       "      <td>1</td>\n",
       "      <td>3</td>\n",
       "      <td>0</td>\n",
       "      <td>0</td>\n",
       "      <td>0</td>\n",
       "      <td>2000.005464</td>\n",
       "      <td>368.75</td>\n",
       "      <td>0.12</td>\n",
       "      <td>12</td>\n",
       "      <td>19.536</td>\n",
       "      <td>-155.576</td>\n",
       "      <td>3437.0</td>\n",
       "      <td>3397.0</td>\n",
       "      <td>40.0</td>\n",
       "      <td>...</td>\n",
       "    </tr>\n",
       "  </tbody>\n",
       "</table>\n",
       "</div>"
      ],
      "text/plain": [
       "  site_code  year  month  day  hour  minute  second  time_decimal   value  \\\n",
       "0       MLO  2000      1    1     0       0       0   2000.000000  368.84   \n",
       "1       MLO  2000      1    2     0       0       0   2000.002732  368.82   \n",
       "2       MLO  2000      1    3     0       0       0   2000.005464  368.75   \n",
       "\n",
       "   value_std_dev  nvalue  latitude  longitude  altitude  elevation  \\\n",
       "0           0.09      15    19.536   -155.576    3437.0     3397.0   \n",
       "1           0.16      13    19.536   -155.576    3437.0     3397.0   \n",
       "2           0.12      12    19.536   -155.576    3437.0     3397.0   \n",
       "\n",
       "   intake_height qcflag  \n",
       "0           40.0    ...  \n",
       "1           40.0    ...  \n",
       "2           40.0    ...  "
      ]
     },
     "execution_count": 51,
     "metadata": {},
     "output_type": "execute_result"
    }
   ],
   "source": [
    "carbon_df.head(3)"
   ]
  },
  {
   "cell_type": "code",
   "execution_count": 52,
   "metadata": {},
   "outputs": [
    {
     "data": {
      "text/plain": [
       "(7305, 17)"
      ]
     },
     "execution_count": 52,
     "metadata": {},
     "output_type": "execute_result"
    }
   ],
   "source": [
    "carbon_df.shape"
   ]
  },
  {
   "cell_type": "code",
   "execution_count": 53,
   "metadata": {},
   "outputs": [
    {
     "data": {
      "text/plain": [
       "MLO    7305\n",
       "Name: site_code, dtype: int64"
      ]
     },
     "execution_count": 53,
     "metadata": {},
     "output_type": "execute_result"
    }
   ],
   "source": [
    "# We can drop thid because all the data is from Mauna Loa Observatory\n",
    "carbon_df['site_code'].value_counts()"
   ]
  },
  {
   "cell_type": "code",
   "execution_count": 54,
   "metadata": {},
   "outputs": [
    {
     "data": {
      "text/plain": [
       "...    6436\n",
       "*..     869\n",
       "Name: qcflag, dtype: int64"
      ]
     },
     "execution_count": 54,
     "metadata": {},
     "output_type": "execute_result"
    }
   ],
   "source": [
    "# According to the data dictionary, \"*..\" means the sample was rejected\n",
    "carbon_df['qcflag'].value_counts()"
   ]
  },
  {
   "cell_type": "code",
   "execution_count": 55,
   "metadata": {},
   "outputs": [],
   "source": [
    "carbon_df['qcflag'] = carbon_df['qcflag'].map({'...': 'pass', '*..': 'fail'})"
   ]
  },
  {
   "cell_type": "code",
   "execution_count": 56,
   "metadata": {},
   "outputs": [
    {
     "data": {
      "text/plain": [
       "pass    6436\n",
       "fail     869\n",
       "Name: qcflag, dtype: int64"
      ]
     },
     "execution_count": 56,
     "metadata": {},
     "output_type": "execute_result"
    }
   ],
   "source": [
    "carbon_df['qcflag'].value_counts()"
   ]
  },
  {
   "cell_type": "code",
   "execution_count": 57,
   "metadata": {},
   "outputs": [
    {
     "data": {
      "text/html": [
       "<div>\n",
       "<style scoped>\n",
       "    .dataframe tbody tr th:only-of-type {\n",
       "        vertical-align: middle;\n",
       "    }\n",
       "\n",
       "    .dataframe tbody tr th {\n",
       "        vertical-align: top;\n",
       "    }\n",
       "\n",
       "    .dataframe thead th {\n",
       "        text-align: right;\n",
       "    }\n",
       "</style>\n",
       "<table border=\"1\" class=\"dataframe\">\n",
       "  <thead>\n",
       "    <tr style=\"text-align: right;\">\n",
       "      <th></th>\n",
       "      <th>site_code</th>\n",
       "      <th>year</th>\n",
       "      <th>month</th>\n",
       "      <th>day</th>\n",
       "      <th>hour</th>\n",
       "      <th>minute</th>\n",
       "      <th>second</th>\n",
       "      <th>time_decimal</th>\n",
       "      <th>value</th>\n",
       "      <th>value_std_dev</th>\n",
       "      <th>nvalue</th>\n",
       "      <th>latitude</th>\n",
       "      <th>longitude</th>\n",
       "      <th>altitude</th>\n",
       "      <th>elevation</th>\n",
       "      <th>intake_height</th>\n",
       "      <th>qcflag</th>\n",
       "    </tr>\n",
       "  </thead>\n",
       "  <tbody>\n",
       "    <tr>\n",
       "      <th>0</th>\n",
       "      <td>MLO</td>\n",
       "      <td>2000</td>\n",
       "      <td>1</td>\n",
       "      <td>1</td>\n",
       "      <td>0</td>\n",
       "      <td>0</td>\n",
       "      <td>0</td>\n",
       "      <td>2000.000000</td>\n",
       "      <td>368.84</td>\n",
       "      <td>0.09</td>\n",
       "      <td>15</td>\n",
       "      <td>19.536</td>\n",
       "      <td>-155.576</td>\n",
       "      <td>3437.0</td>\n",
       "      <td>3397.0</td>\n",
       "      <td>40.0</td>\n",
       "      <td>pass</td>\n",
       "    </tr>\n",
       "    <tr>\n",
       "      <th>1</th>\n",
       "      <td>MLO</td>\n",
       "      <td>2000</td>\n",
       "      <td>1</td>\n",
       "      <td>2</td>\n",
       "      <td>0</td>\n",
       "      <td>0</td>\n",
       "      <td>0</td>\n",
       "      <td>2000.002732</td>\n",
       "      <td>368.82</td>\n",
       "      <td>0.16</td>\n",
       "      <td>13</td>\n",
       "      <td>19.536</td>\n",
       "      <td>-155.576</td>\n",
       "      <td>3437.0</td>\n",
       "      <td>3397.0</td>\n",
       "      <td>40.0</td>\n",
       "      <td>pass</td>\n",
       "    </tr>\n",
       "    <tr>\n",
       "      <th>2</th>\n",
       "      <td>MLO</td>\n",
       "      <td>2000</td>\n",
       "      <td>1</td>\n",
       "      <td>3</td>\n",
       "      <td>0</td>\n",
       "      <td>0</td>\n",
       "      <td>0</td>\n",
       "      <td>2000.005464</td>\n",
       "      <td>368.75</td>\n",
       "      <td>0.12</td>\n",
       "      <td>12</td>\n",
       "      <td>19.536</td>\n",
       "      <td>-155.576</td>\n",
       "      <td>3437.0</td>\n",
       "      <td>3397.0</td>\n",
       "      <td>40.0</td>\n",
       "      <td>pass</td>\n",
       "    </tr>\n",
       "    <tr>\n",
       "      <th>3</th>\n",
       "      <td>MLO</td>\n",
       "      <td>2000</td>\n",
       "      <td>1</td>\n",
       "      <td>4</td>\n",
       "      <td>0</td>\n",
       "      <td>0</td>\n",
       "      <td>0</td>\n",
       "      <td>2000.008197</td>\n",
       "      <td>368.82</td>\n",
       "      <td>0.13</td>\n",
       "      <td>13</td>\n",
       "      <td>19.536</td>\n",
       "      <td>-155.576</td>\n",
       "      <td>3437.0</td>\n",
       "      <td>3397.0</td>\n",
       "      <td>40.0</td>\n",
       "      <td>pass</td>\n",
       "    </tr>\n",
       "    <tr>\n",
       "      <th>4</th>\n",
       "      <td>MLO</td>\n",
       "      <td>2000</td>\n",
       "      <td>1</td>\n",
       "      <td>5</td>\n",
       "      <td>0</td>\n",
       "      <td>0</td>\n",
       "      <td>0</td>\n",
       "      <td>2000.010929</td>\n",
       "      <td>368.66</td>\n",
       "      <td>0.10</td>\n",
       "      <td>14</td>\n",
       "      <td>19.536</td>\n",
       "      <td>-155.576</td>\n",
       "      <td>3437.0</td>\n",
       "      <td>3397.0</td>\n",
       "      <td>40.0</td>\n",
       "      <td>pass</td>\n",
       "    </tr>\n",
       "  </tbody>\n",
       "</table>\n",
       "</div>"
      ],
      "text/plain": [
       "  site_code  year  month  day  hour  minute  second  time_decimal   value  \\\n",
       "0       MLO  2000      1    1     0       0       0   2000.000000  368.84   \n",
       "1       MLO  2000      1    2     0       0       0   2000.002732  368.82   \n",
       "2       MLO  2000      1    3     0       0       0   2000.005464  368.75   \n",
       "3       MLO  2000      1    4     0       0       0   2000.008197  368.82   \n",
       "4       MLO  2000      1    5     0       0       0   2000.010929  368.66   \n",
       "\n",
       "   value_std_dev  nvalue  latitude  longitude  altitude  elevation  \\\n",
       "0           0.09      15    19.536   -155.576    3437.0     3397.0   \n",
       "1           0.16      13    19.536   -155.576    3437.0     3397.0   \n",
       "2           0.12      12    19.536   -155.576    3437.0     3397.0   \n",
       "3           0.13      13    19.536   -155.576    3437.0     3397.0   \n",
       "4           0.10      14    19.536   -155.576    3437.0     3397.0   \n",
       "\n",
       "   intake_height qcflag  \n",
       "0           40.0   pass  \n",
       "1           40.0   pass  \n",
       "2           40.0   pass  \n",
       "3           40.0   pass  \n",
       "4           40.0   pass  "
      ]
     },
     "execution_count": 57,
     "metadata": {},
     "output_type": "execute_result"
    }
   ],
   "source": [
    "# Dropping rows with faulty samples ('fail' in 'qcflag')\n",
    "carbon_df = carbon_df[carbon_df['qcflag'] != 'fail']\n",
    "carbon_df.head()"
   ]
  },
  {
   "cell_type": "code",
   "execution_count": 58,
   "metadata": {},
   "outputs": [
    {
     "data": {
      "text/plain": [
       "40.0    6436\n",
       "Name: intake_height, dtype: int64"
      ]
     },
     "execution_count": 58,
     "metadata": {},
     "output_type": "execute_result"
    }
   ],
   "source": [
    "# All values the same - will drop\n",
    "carbon_df['intake_height'].value_counts()"
   ]
  },
  {
   "cell_type": "code",
   "execution_count": 59,
   "metadata": {},
   "outputs": [
    {
     "data": {
      "text/plain": [
       "3397.0    6436\n",
       "Name: elevation, dtype: int64"
      ]
     },
     "execution_count": 59,
     "metadata": {},
     "output_type": "execute_result"
    }
   ],
   "source": [
    "# All values the same - will drop\n",
    "carbon_df['elevation'].value_counts()"
   ]
  },
  {
   "cell_type": "code",
   "execution_count": 60,
   "metadata": {},
   "outputs": [
    {
     "data": {
      "text/plain": [
       "3437.0    6436\n",
       "Name: altitude, dtype: int64"
      ]
     },
     "execution_count": 60,
     "metadata": {},
     "output_type": "execute_result"
    }
   ],
   "source": [
    "# All values the same - will drop\n",
    "carbon_df['altitude'].value_counts()"
   ]
  },
  {
   "cell_type": "code",
   "execution_count": 61,
   "metadata": {},
   "outputs": [],
   "source": [
    "# Defining a list of columns to drop in the atmospheric carbon dataframe\n",
    "carbon_drops = ['site_code', 'hour', 'minute', 'second', 'time_decimal', 'elevation', 'intake_height', 'altitude']"
   ]
  },
  {
   "cell_type": "code",
   "execution_count": 62,
   "metadata": {},
   "outputs": [
    {
     "data": {
      "text/html": [
       "<div>\n",
       "<style scoped>\n",
       "    .dataframe tbody tr th:only-of-type {\n",
       "        vertical-align: middle;\n",
       "    }\n",
       "\n",
       "    .dataframe tbody tr th {\n",
       "        vertical-align: top;\n",
       "    }\n",
       "\n",
       "    .dataframe thead th {\n",
       "        text-align: right;\n",
       "    }\n",
       "</style>\n",
       "<table border=\"1\" class=\"dataframe\">\n",
       "  <thead>\n",
       "    <tr style=\"text-align: right;\">\n",
       "      <th></th>\n",
       "      <th>year</th>\n",
       "      <th>month</th>\n",
       "      <th>day</th>\n",
       "      <th>value</th>\n",
       "      <th>value_std_dev</th>\n",
       "      <th>nvalue</th>\n",
       "      <th>latitude</th>\n",
       "      <th>longitude</th>\n",
       "      <th>qcflag</th>\n",
       "    </tr>\n",
       "  </thead>\n",
       "  <tbody>\n",
       "    <tr>\n",
       "      <th>0</th>\n",
       "      <td>2000</td>\n",
       "      <td>1</td>\n",
       "      <td>1</td>\n",
       "      <td>368.84</td>\n",
       "      <td>0.09</td>\n",
       "      <td>15</td>\n",
       "      <td>19.536</td>\n",
       "      <td>-155.576</td>\n",
       "      <td>pass</td>\n",
       "    </tr>\n",
       "    <tr>\n",
       "      <th>1</th>\n",
       "      <td>2000</td>\n",
       "      <td>1</td>\n",
       "      <td>2</td>\n",
       "      <td>368.82</td>\n",
       "      <td>0.16</td>\n",
       "      <td>13</td>\n",
       "      <td>19.536</td>\n",
       "      <td>-155.576</td>\n",
       "      <td>pass</td>\n",
       "    </tr>\n",
       "    <tr>\n",
       "      <th>2</th>\n",
       "      <td>2000</td>\n",
       "      <td>1</td>\n",
       "      <td>3</td>\n",
       "      <td>368.75</td>\n",
       "      <td>0.12</td>\n",
       "      <td>12</td>\n",
       "      <td>19.536</td>\n",
       "      <td>-155.576</td>\n",
       "      <td>pass</td>\n",
       "    </tr>\n",
       "  </tbody>\n",
       "</table>\n",
       "</div>"
      ],
      "text/plain": [
       "   year  month  day   value  value_std_dev  nvalue  latitude  longitude qcflag\n",
       "0  2000      1    1  368.84           0.09      15    19.536   -155.576   pass\n",
       "1  2000      1    2  368.82           0.16      13    19.536   -155.576   pass\n",
       "2  2000      1    3  368.75           0.12      12    19.536   -155.576   pass"
      ]
     },
     "execution_count": 62,
     "metadata": {},
     "output_type": "execute_result"
    }
   ],
   "source": [
    "# Dropping columns\n",
    "carbon_df = carbon_df.drop(columns=carbon_drops)\n",
    "carbon_df.head(3)"
   ]
  },
  {
   "cell_type": "code",
   "execution_count": 63,
   "metadata": {},
   "outputs": [
    {
     "data": {
      "text/plain": [
       "(6436, 9)"
      ]
     },
     "execution_count": 63,
     "metadata": {},
     "output_type": "execute_result"
    }
   ],
   "source": [
    "carbon_df.shape"
   ]
  },
  {
   "cell_type": "code",
   "execution_count": 64,
   "metadata": {},
   "outputs": [],
   "source": [
    "carbon_df.to_csv('../data_clean/carbon_df_clean.csv', index = False)"
   ]
  },
  {
   "cell_type": "markdown",
   "metadata": {},
   "source": [
    "---\n",
    "---"
   ]
  },
  {
   "cell_type": "markdown",
   "metadata": {},
   "source": [
    "### Merging & Cleaning Data"
   ]
  },
  {
   "cell_type": "code",
   "execution_count": 65,
   "metadata": {},
   "outputs": [],
   "source": [
    "df2 = pd.read_csv('../data_clean/fire_df_clean.csv')\n",
    "df3 = pd.read_csv('../data_clean/carbon_df_clean.csv')"
   ]
  },
  {
   "cell_type": "code",
   "execution_count": 66,
   "metadata": {},
   "outputs": [],
   "source": [
    "# Reference: https://stackabuse.com/converting-strings-to-datetime-in-python/\n",
    "time = [(str(df3['year'][x]) + '-' + str(df3['month'][x])+ '-' +str(df3['day'][x])) for x in range(len(df3['year']))]\n",
    "df3['time'] = time\n",
    "df3.drop(columns=['year', 'month', 'day', 'latitude', 'longitude'], inplace=True) \n",
    "date_time_obj = [datetime.datetime.strptime(x, '%Y-%m-%d') for x in df3['time']]\n",
    "df3['time'] = date_time_obj\n",
    "\n",
    "df2['time'] = [df2['Started'][x].split()[0] for x in range(len(df2['Started']))]\n",
    "date_time_obj = [datetime.datetime.strptime(x, '%Y-%m-%d') for x in df2['time']]\n",
    "df2['time'] = date_time_obj\n",
    "\n",
    "master_df = df2.merge(df3, how='inner', on='time')"
   ]
  },
  {
   "cell_type": "code",
   "execution_count": 67,
   "metadata": {},
   "outputs": [
    {
     "data": {
      "text/html": [
       "<div>\n",
       "<style scoped>\n",
       "    .dataframe tbody tr th:only-of-type {\n",
       "        vertical-align: middle;\n",
       "    }\n",
       "\n",
       "    .dataframe tbody tr th {\n",
       "        vertical-align: top;\n",
       "    }\n",
       "\n",
       "    .dataframe thead th {\n",
       "        text-align: right;\n",
       "    }\n",
       "</style>\n",
       "<table border=\"1\" class=\"dataframe\">\n",
       "  <thead>\n",
       "    <tr style=\"text-align: right;\">\n",
       "      <th></th>\n",
       "      <th>CountyIds</th>\n",
       "      <th>COUNTY</th>\n",
       "      <th>Latitude</th>\n",
       "      <th>Longitude</th>\n",
       "      <th>AdminUnit</th>\n",
       "      <th>Name</th>\n",
       "      <th>AcresBurned</th>\n",
       "      <th>Started</th>\n",
       "      <th>Extinguished</th>\n",
       "      <th>Duration</th>\n",
       "      <th>ArchiveYear</th>\n",
       "      <th>PercentContained</th>\n",
       "      <th>MajorIncident</th>\n",
       "      <th>time</th>\n",
       "      <th>value</th>\n",
       "      <th>value_std_dev</th>\n",
       "      <th>nvalue</th>\n",
       "      <th>qcflag</th>\n",
       "    </tr>\n",
       "  </thead>\n",
       "  <tbody>\n",
       "    <tr>\n",
       "      <th>0</th>\n",
       "      <td>55</td>\n",
       "      <td>tuolumne</td>\n",
       "      <td>37.857000</td>\n",
       "      <td>-120.086000</td>\n",
       "      <td>Stanislaus National Forest/Yosemite National Park</td>\n",
       "      <td>Rim Fire</td>\n",
       "      <td>257314.0</td>\n",
       "      <td>2013-08-17 15:25:00+00:00</td>\n",
       "      <td>2013-09-06 18:30:00+00:00</td>\n",
       "      <td>20 days 03:05:00</td>\n",
       "      <td>2013</td>\n",
       "      <td>100.0</td>\n",
       "      <td>False</td>\n",
       "      <td>2013-08-17</td>\n",
       "      <td>394.91</td>\n",
       "      <td>0.15</td>\n",
       "      <td>6</td>\n",
       "      <td>pass</td>\n",
       "    </tr>\n",
       "    <tr>\n",
       "      <th>1</th>\n",
       "      <td>36</td>\n",
       "      <td>san bernardino</td>\n",
       "      <td>34.287000</td>\n",
       "      <td>-117.451000</td>\n",
       "      <td>San Bernardino National Forest</td>\n",
       "      <td>Cleghorn Fire</td>\n",
       "      <td>110.0</td>\n",
       "      <td>2013-08-17 17:25:00+00:00</td>\n",
       "      <td>2013-08-18 20:55:00+00:00</td>\n",
       "      <td>1 days 03:30:00</td>\n",
       "      <td>2013</td>\n",
       "      <td>100.0</td>\n",
       "      <td>False</td>\n",
       "      <td>2013-08-17</td>\n",
       "      <td>394.91</td>\n",
       "      <td>0.15</td>\n",
       "      <td>6</td>\n",
       "      <td>pass</td>\n",
       "    </tr>\n",
       "    <tr>\n",
       "      <th>2</th>\n",
       "      <td>5</td>\n",
       "      <td>calaveras</td>\n",
       "      <td>38.062310</td>\n",
       "      <td>-120.452330</td>\n",
       "      <td>CAL FIRE Tuolumne-Calaveras Unit</td>\n",
       "      <td>Bridges Fire</td>\n",
       "      <td>46.0</td>\n",
       "      <td>2013-08-17 10:11:00+00:00</td>\n",
       "      <td>2013-08-19 07:10:00+00:00</td>\n",
       "      <td>1 days 20:59:00</td>\n",
       "      <td>2013</td>\n",
       "      <td>100.0</td>\n",
       "      <td>True</td>\n",
       "      <td>2013-08-17</td>\n",
       "      <td>394.91</td>\n",
       "      <td>0.15</td>\n",
       "      <td>6</td>\n",
       "      <td>pass</td>\n",
       "    </tr>\n",
       "    <tr>\n",
       "      <th>3</th>\n",
       "      <td>19</td>\n",
       "      <td>los angeles</td>\n",
       "      <td>34.585595</td>\n",
       "      <td>-118.423176</td>\n",
       "      <td>USFS Angeles National Forest/Los Angeles Count...</td>\n",
       "      <td>Powerhouse Fire</td>\n",
       "      <td>30274.0</td>\n",
       "      <td>2013-05-30 15:28:00+00:00</td>\n",
       "      <td>2013-06-08 18:30:00+00:00</td>\n",
       "      <td>9 days 03:02:00</td>\n",
       "      <td>2013</td>\n",
       "      <td>100.0</td>\n",
       "      <td>False</td>\n",
       "      <td>2013-05-30</td>\n",
       "      <td>399.91</td>\n",
       "      <td>0.08</td>\n",
       "      <td>5</td>\n",
       "      <td>pass</td>\n",
       "    </tr>\n",
       "    <tr>\n",
       "      <th>4</th>\n",
       "      <td>39</td>\n",
       "      <td>san joaquin</td>\n",
       "      <td>38.049930</td>\n",
       "      <td>-120.903250</td>\n",
       "      <td>CAL FIRE Tuolumne-Calaveras Unit</td>\n",
       "      <td>Shelton Fire</td>\n",
       "      <td>303.0</td>\n",
       "      <td>2013-05-30 11:20:00+00:00</td>\n",
       "      <td>2013-05-30 13:25:00+00:00</td>\n",
       "      <td>0 days 02:05:00</td>\n",
       "      <td>2013</td>\n",
       "      <td>100.0</td>\n",
       "      <td>False</td>\n",
       "      <td>2013-05-30</td>\n",
       "      <td>399.91</td>\n",
       "      <td>0.08</td>\n",
       "      <td>5</td>\n",
       "      <td>pass</td>\n",
       "    </tr>\n",
       "  </tbody>\n",
       "</table>\n",
       "</div>"
      ],
      "text/plain": [
       "  CountyIds          COUNTY   Latitude   Longitude  \\\n",
       "0        55        tuolumne  37.857000 -120.086000   \n",
       "1        36  san bernardino  34.287000 -117.451000   \n",
       "2         5       calaveras  38.062310 -120.452330   \n",
       "3        19     los angeles  34.585595 -118.423176   \n",
       "4        39     san joaquin  38.049930 -120.903250   \n",
       "\n",
       "                                           AdminUnit             Name  \\\n",
       "0  Stanislaus National Forest/Yosemite National Park         Rim Fire   \n",
       "1                     San Bernardino National Forest    Cleghorn Fire   \n",
       "2                   CAL FIRE Tuolumne-Calaveras Unit     Bridges Fire   \n",
       "3  USFS Angeles National Forest/Los Angeles Count...  Powerhouse Fire   \n",
       "4                  CAL FIRE Tuolumne-Calaveras Unit      Shelton Fire   \n",
       "\n",
       "   AcresBurned                    Started               Extinguished  \\\n",
       "0     257314.0  2013-08-17 15:25:00+00:00  2013-09-06 18:30:00+00:00   \n",
       "1        110.0  2013-08-17 17:25:00+00:00  2013-08-18 20:55:00+00:00   \n",
       "2         46.0  2013-08-17 10:11:00+00:00  2013-08-19 07:10:00+00:00   \n",
       "3      30274.0  2013-05-30 15:28:00+00:00  2013-06-08 18:30:00+00:00   \n",
       "4        303.0  2013-05-30 11:20:00+00:00  2013-05-30 13:25:00+00:00   \n",
       "\n",
       "           Duration  ArchiveYear  PercentContained  MajorIncident       time  \\\n",
       "0  20 days 03:05:00         2013             100.0          False 2013-08-17   \n",
       "1   1 days 03:30:00         2013             100.0          False 2013-08-17   \n",
       "2   1 days 20:59:00         2013             100.0           True 2013-08-17   \n",
       "3   9 days 03:02:00         2013             100.0          False 2013-05-30   \n",
       "4   0 days 02:05:00         2013             100.0          False 2013-05-30   \n",
       "\n",
       "    value  value_std_dev  nvalue qcflag  \n",
       "0  394.91           0.15       6   pass  \n",
       "1  394.91           0.15       6   pass  \n",
       "2  394.91           0.15       6   pass  \n",
       "3  399.91           0.08       5   pass  \n",
       "4  399.91           0.08       5   pass  "
      ]
     },
     "execution_count": 67,
     "metadata": {},
     "output_type": "execute_result"
    }
   ],
   "source": [
    "master_df.head()"
   ]
  },
  {
   "cell_type": "code",
   "execution_count": 68,
   "metadata": {},
   "outputs": [
    {
     "data": {
      "text/plain": [
       "(1432, 18)"
      ]
     },
     "execution_count": 68,
     "metadata": {},
     "output_type": "execute_result"
    }
   ],
   "source": [
    "master_df.shape"
   ]
  },
  {
   "cell_type": "code",
   "execution_count": 69,
   "metadata": {},
   "outputs": [
    {
     "data": {
      "text/plain": [
       "CountyIds            0\n",
       "COUNTY               0\n",
       "Latitude             0\n",
       "Longitude            0\n",
       "AdminUnit            0\n",
       "Name                 0\n",
       "AcresBurned          3\n",
       "Started              0\n",
       "Extinguished        54\n",
       "Duration            54\n",
       "ArchiveYear          0\n",
       "PercentContained     3\n",
       "MajorIncident        0\n",
       "time                 0\n",
       "value                0\n",
       "value_std_dev        0\n",
       "nvalue               0\n",
       "qcflag               0\n",
       "dtype: int64"
      ]
     },
     "execution_count": 69,
     "metadata": {},
     "output_type": "execute_result"
    }
   ],
   "source": [
    "master_df.isnull().sum()"
   ]
  },
  {
   "cell_type": "code",
   "execution_count": 70,
   "metadata": {},
   "outputs": [],
   "source": [
    "master_df.to_csv('../data_clean/master_df1.csv', index = False)"
   ]
  },
  {
   "cell_type": "markdown",
   "metadata": {},
   "source": [
    "---"
   ]
  },
  {
   "cell_type": "code",
   "execution_count": 71,
   "metadata": {},
   "outputs": [],
   "source": [
    "master = pd.read_csv('../data_clean/master_df1.csv')\n",
    "noaa = pd.read_csv('../data_clean/noaa_df_clean.csv')"
   ]
  },
  {
   "cell_type": "code",
   "execution_count": 72,
   "metadata": {},
   "outputs": [],
   "source": [
    "# Rounding the dates of fire by month\n",
    "new_time = []\n",
    "for x in master['time']:\n",
    "    temp = x.split('-')\n",
    "    temp[2] = '01'\n",
    "    temp = '-'.join(temp)\n",
    "    new_time.append(temp)\n",
    "master['time'] = new_time"
   ]
  },
  {
   "cell_type": "code",
   "execution_count": 73,
   "metadata": {},
   "outputs": [],
   "source": [
    "master['time/place'] = master['time']+master['COUNTY']"
   ]
  },
  {
   "cell_type": "code",
   "execution_count": 74,
   "metadata": {},
   "outputs": [],
   "source": [
    "noaa['time/place'] = noaa['DATE']+noaa['COUNTY']"
   ]
  },
  {
   "cell_type": "code",
   "execution_count": 75,
   "metadata": {},
   "outputs": [],
   "source": [
    "noaa.drop(columns=['STATION','NAME',], inplace = True)"
   ]
  },
  {
   "cell_type": "code",
   "execution_count": 76,
   "metadata": {},
   "outputs": [],
   "source": [
    "# Reference: https://stackoverflow.com/questions/4130922/how-to-increment-datetime-by-custom-months-in-python-without-using-library\n",
    "import calendar\n",
    "\n",
    "def add_months(sourcedate, months):\n",
    "    month = sourcedate.month - 1 + months\n",
    "    year = sourcedate.year + month // 12\n",
    "    month = month % 12 + 1\n",
    "    day = min(sourcedate.day, calendar.monthrange(year,month)[1])\n",
    "    return datetime.date(year, month, day)"
   ]
  },
  {
   "cell_type": "code",
   "execution_count": 77,
   "metadata": {},
   "outputs": [
    {
     "data": {
      "text/plain": [
       "datetime.date(2017, 2, 1)"
      ]
     },
     "execution_count": 77,
     "metadata": {},
     "output_type": "execute_result"
    }
   ],
   "source": [
    "start_date = '2017-01-01'\n",
    "date_time_obj = datetime.datetime.strptime(start_date, '%Y-%m-%d')\n",
    "start_date = date_time_obj\n",
    "\n",
    "start_date = add_months(start_date, 1)\n",
    "start_date"
   ]
  },
  {
   "cell_type": "code",
   "execution_count": 78,
   "metadata": {},
   "outputs": [],
   "source": [
    "noaa = noaa[noaa['COUNTY'].notna()]"
   ]
  },
  {
   "cell_type": "code",
   "execution_count": 79,
   "metadata": {},
   "outputs": [
    {
     "name": "stdout",
     "output_type": "stream",
     "text": [
      "santa barbara\n",
      "sacramento\n",
      "riverside\n",
      "los angeles\n",
      "fresno\n",
      "tehama\n",
      "alameda\n",
      "siskiyou\n",
      "kings\n",
      "shasta\n",
      "san diego\n",
      "san luis obispo\n",
      "del norte\n",
      "san bernardino\n",
      "humboldt\n",
      "monterey\n",
      "solano\n",
      "ventura\n",
      "sonoma\n",
      "stanislaus\n",
      "orange\n",
      "mendocino\n",
      "napa\n",
      "san mateo\n",
      "santa clara\n",
      "san joaquin\n",
      "el dorado\n",
      "merced\n",
      "modoc\n",
      "kern\n",
      "santa cruz\n",
      "placer\n",
      "madera\n",
      "imperial\n",
      "contra costa\n",
      "yuba\n",
      "trinity\n",
      "inyo\n",
      "glenn\n",
      "alpine\n",
      "butte\n",
      "marin\n",
      "mariposa\n",
      "lassen\n",
      "nevada\n",
      "tuolumne\n",
      "colusa\n",
      "san benito\n",
      "mono\n",
      "san francisco city and\n",
      "sierra\n",
      "plumas\n",
      "tulare\n",
      "yolo\n",
      "lake\n",
      "amador\n",
      "klamath\n",
      "calaveras\n",
      "sutter\n"
     ]
    }
   ],
   "source": [
    "county_list = noaa['COUNTY'].unique()\n",
    "end_date = '2020-09-01'\n",
    "date_time_obj = datetime.datetime.strptime(end_date, '%Y-%m-%d')\n",
    "end_date = date_time_obj\n",
    "true_list = []\n",
    "for county in county_list:\n",
    "    start_date = '2017-01-01'\n",
    "    date_time_obj = datetime.datetime.strptime(start_date, '%Y-%m-%d')\n",
    "    start_date = date_time_obj\n",
    "    print(county)\n",
    "    while start_date.strftime('%Y-%m-%d') != end_date.strftime('%Y-%m-%d'): \n",
    "        day_county_info = []\n",
    "        average_Elevation = noaa[noaa['time/place'] == (start_date.strftime('%Y-%m-%d')+county)]['ELEVATION'].mean()\n",
    "        average_AWND = noaa[noaa['time/place'] == (start_date.strftime('%Y-%m-%d')+county)]['AWND'].mean()\n",
    "        average_CLDD = noaa[noaa['time/place'] == (start_date.strftime('%Y-%m-%d')+county)]['CLDD'].mean()\n",
    "        average_DP01 = noaa[noaa['time/place'] == (start_date.strftime('%Y-%m-%d')+county)]['DP01'].mean()\n",
    "        average_DP10 = noaa[noaa['time/place'] == (start_date.strftime('%Y-%m-%d')+county)]['DP10'].mean()\n",
    "        average_DSND = noaa[noaa['time/place'] == (start_date.strftime('%Y-%m-%d')+county)]['DSND'].mean()\n",
    "        average_DT00 = noaa[noaa['time/place'] == (start_date.strftime('%Y-%m-%d')+county)]['DT00'].mean()\n",
    "        average_DT32 = noaa[noaa['time/place'] == (start_date.strftime('%Y-%m-%d')+county)]['DT32'].mean()\n",
    "        average_DX32 = noaa[noaa['time/place'] == (start_date.strftime('%Y-%m-%d')+county)]['DX32'].mean()\n",
    "        average_DX70 = noaa[noaa['time/place'] == (start_date.strftime('%Y-%m-%d')+county)]['DX70'].mean()\n",
    "        average_DC90 = noaa[noaa['time/place'] == (start_date.strftime('%Y-%m-%d')+county)]['DX90'].mean()\n",
    "        average_EMNT = noaa[noaa['time/place'] == (start_date.strftime('%Y-%m-%d')+county)]['EMNT'].mean()\n",
    "        average_EMSN = noaa[noaa['time/place'] == (start_date.strftime('%Y-%m-%d')+county)]['EMSN'].mean()\n",
    "        average_EMXP = noaa[noaa['time/place'] == (start_date.strftime('%Y-%m-%d')+county)]['EMXP'].mean()\n",
    "        average_EMXT = noaa[noaa['time/place'] == (start_date.strftime('%Y-%m-%d')+county)]['EMXT'].mean()\n",
    "        average_HTDD = noaa[noaa['time/place'] == (start_date.strftime('%Y-%m-%d')+county)]['HTDD'].mean()\n",
    "        average_PRCP = noaa[noaa['time/place'] == (start_date.strftime('%Y-%m-%d')+county)]['PRCP'].mean()\n",
    "        average_SNOW = noaa[noaa['time/place'] == (start_date.strftime('%Y-%m-%d')+county)]['SNOW'].mean()\n",
    "        average_TAVG = noaa[noaa['time/place'] == (start_date.strftime('%Y-%m-%d')+county)]['TAVG'].mean()\n",
    "        average_TMAX = noaa[noaa['time/place'] == (start_date.strftime('%Y-%m-%d')+county)]['TMAX'].mean()\n",
    "        average_TMIN = noaa[noaa['time/place'] == (start_date.strftime('%Y-%m-%d')+county)]['TMIN'].mean()\n",
    "        #average_GEOM = noaa[noaa['time/place'] == (start_date.strftime('%Y-%m-%d')+county)]['GEOM'].mean()\n",
    "        time_place = set(noaa[noaa['time/place'] == (start_date.strftime('%Y-%m-%d')+county)]['time/place'])\n",
    "        time_place = list(time_place)[0]\n",
    "        day_county_info = [average_CLDD,average_Elevation,average_AWND,average_DP01,average_DP10,average_DSND,\n",
    "                               average_DT00,average_DT32,average_DX32,average_DX70,average_DC90,average_EMNT,\n",
    "                               average_EMSN,average_EMXP,average_EMXT,average_HTDD,average_PRCP,average_SNOW,\n",
    "                               average_TAVG,average_TMAX,average_TMIN,time_place]\n",
    "        true_list.append(day_county_info)\n",
    "        start_date = add_months(start_date,1)"
   ]
  },
  {
   "cell_type": "code",
   "execution_count": 80,
   "metadata": {},
   "outputs": [],
   "source": [
    "column_list = ['CLDD', 'ELEVATION', 'AWND',  'DP01',\n",
    "       'DP10', 'DSND', 'DT00', 'DT32', 'DX32', 'DX70', 'DX90', 'EMNT', 'EMSN',\n",
    "       'EMXP', 'EMXT', 'HTDD', 'PRCP', 'SNOW', 'TAVG', 'TMAX', 'TMIN',  'time/place']\n",
    "\n",
    "# Creating a new NOAA df, replacing lat and long with corresponding county names, dropping redundant/unnecessary columns\n",
    "clean_average_noaa = pd.DataFrame(true_list, columns=column_list)"
   ]
  },
  {
   "cell_type": "code",
   "execution_count": 81,
   "metadata": {},
   "outputs": [],
   "source": [
    "# Merging cleaned NOAA weather data with our cleaned master df, containing CA fire and atmospheric carbon data\n",
    "master = master.merge(clean_average_noaa, how='inner', on='time/place')"
   ]
  },
  {
   "cell_type": "code",
   "execution_count": 82,
   "metadata": {},
   "outputs": [],
   "source": [
    "# Imputing values for the 3 nulls in 'AcresBurned', referencine online records of these fires\n",
    "# Reference: \n",
    "master.at[688,'AcresBurned'] = 100\n",
    "master.at[709,'AcresBurned'] = 60\n",
    "master.at[745,'AcresBurned'] = 140"
   ]
  },
  {
   "cell_type": "code",
   "execution_count": 83,
   "metadata": {},
   "outputs": [],
   "source": [
    "# Converting all objects in the 'Duration' column to integer values\n",
    "master['Duration'] = [int(master['Duration'][x].split()[0]) if type(master['Duration'][x]) != float else master['Duration'][x] for x in range(len(master['Duration']))]"
   ]
  },
  {
   "cell_type": "code",
   "execution_count": 84,
   "metadata": {},
   "outputs": [
    {
     "data": {
      "text/html": [
       "<div>\n",
       "<style scoped>\n",
       "    .dataframe tbody tr th:only-of-type {\n",
       "        vertical-align: middle;\n",
       "    }\n",
       "\n",
       "    .dataframe tbody tr th {\n",
       "        vertical-align: top;\n",
       "    }\n",
       "\n",
       "    .dataframe thead th {\n",
       "        text-align: right;\n",
       "    }\n",
       "</style>\n",
       "<table border=\"1\" class=\"dataframe\">\n",
       "  <thead>\n",
       "    <tr style=\"text-align: right;\">\n",
       "      <th></th>\n",
       "      <th>CountyIds</th>\n",
       "      <th>COUNTY</th>\n",
       "      <th>Latitude</th>\n",
       "      <th>Longitude</th>\n",
       "      <th>AdminUnit</th>\n",
       "      <th>Name</th>\n",
       "      <th>AcresBurned</th>\n",
       "      <th>Started</th>\n",
       "      <th>Extinguished</th>\n",
       "      <th>Duration</th>\n",
       "      <th>...</th>\n",
       "      <th>EMNT</th>\n",
       "      <th>EMSN</th>\n",
       "      <th>EMXP</th>\n",
       "      <th>EMXT</th>\n",
       "      <th>HTDD</th>\n",
       "      <th>PRCP</th>\n",
       "      <th>SNOW</th>\n",
       "      <th>TAVG</th>\n",
       "      <th>TMAX</th>\n",
       "      <th>TMIN</th>\n",
       "    </tr>\n",
       "  </thead>\n",
       "  <tbody>\n",
       "    <tr>\n",
       "      <th>0</th>\n",
       "      <td>42,56</td>\n",
       "      <td>santa barbara</td>\n",
       "      <td>34.415210</td>\n",
       "      <td>-119.091240</td>\n",
       "      <td>US Forest Service - Los Padres National Forest</td>\n",
       "      <td>Thomas Fire</td>\n",
       "      <td>281893.0</td>\n",
       "      <td>2017-12-04 18:28:00+00:00</td>\n",
       "      <td>2019-03-14 11:24:00+00:00</td>\n",
       "      <td>464.0</td>\n",
       "      <td>...</td>\n",
       "      <td>33.076923</td>\n",
       "      <td>0.0</td>\n",
       "      <td>0.006000</td>\n",
       "      <td>81.153846</td>\n",
       "      <td>265.076923</td>\n",
       "      <td>0.007273</td>\n",
       "      <td>0.0</td>\n",
       "      <td>56.830769</td>\n",
       "      <td>69.884615</td>\n",
       "      <td>43.807692</td>\n",
       "    </tr>\n",
       "    <tr>\n",
       "      <th>1</th>\n",
       "      <td>42</td>\n",
       "      <td>santa barbara</td>\n",
       "      <td>34.717960</td>\n",
       "      <td>-120.270770</td>\n",
       "      <td>Santa Barbara County Fire</td>\n",
       "      <td>Drum Fire</td>\n",
       "      <td>14.0</td>\n",
       "      <td>2017-12-16 12:21:00+00:00</td>\n",
       "      <td>2018-01-09 13:49:00+00:00</td>\n",
       "      <td>24.0</td>\n",
       "      <td>...</td>\n",
       "      <td>33.076923</td>\n",
       "      <td>0.0</td>\n",
       "      <td>0.006000</td>\n",
       "      <td>81.153846</td>\n",
       "      <td>265.076923</td>\n",
       "      <td>0.007273</td>\n",
       "      <td>0.0</td>\n",
       "      <td>56.830769</td>\n",
       "      <td>69.884615</td>\n",
       "      <td>43.807692</td>\n",
       "    </tr>\n",
       "    <tr>\n",
       "      <th>2</th>\n",
       "      <td>42</td>\n",
       "      <td>santa barbara</td>\n",
       "      <td>34.605358</td>\n",
       "      <td>-120.414875</td>\n",
       "      <td>Santa Barbara County Fire</td>\n",
       "      <td>Coast Fire</td>\n",
       "      <td>14.0</td>\n",
       "      <td>2017-12-14 12:59:00+00:00</td>\n",
       "      <td>2018-01-09 13:49:00+00:00</td>\n",
       "      <td>26.0</td>\n",
       "      <td>...</td>\n",
       "      <td>33.076923</td>\n",
       "      <td>0.0</td>\n",
       "      <td>0.006000</td>\n",
       "      <td>81.153846</td>\n",
       "      <td>265.076923</td>\n",
       "      <td>0.007273</td>\n",
       "      <td>0.0</td>\n",
       "      <td>56.830769</td>\n",
       "      <td>69.884615</td>\n",
       "      <td>43.807692</td>\n",
       "    </tr>\n",
       "    <tr>\n",
       "      <th>3</th>\n",
       "      <td>42,56</td>\n",
       "      <td>ventura</td>\n",
       "      <td>34.415210</td>\n",
       "      <td>-119.091240</td>\n",
       "      <td>US Forest Service - Los Padres National Forest</td>\n",
       "      <td>Thomas Fire</td>\n",
       "      <td>281893.0</td>\n",
       "      <td>2017-12-04 18:28:00+00:00</td>\n",
       "      <td>2019-03-14 11:24:00+00:00</td>\n",
       "      <td>464.0</td>\n",
       "      <td>...</td>\n",
       "      <td>31.583333</td>\n",
       "      <td>0.0</td>\n",
       "      <td>0.000909</td>\n",
       "      <td>83.916667</td>\n",
       "      <td>281.666667</td>\n",
       "      <td>0.000909</td>\n",
       "      <td>0.0</td>\n",
       "      <td>56.675000</td>\n",
       "      <td>70.583333</td>\n",
       "      <td>42.758333</td>\n",
       "    </tr>\n",
       "    <tr>\n",
       "      <th>4</th>\n",
       "      <td>33</td>\n",
       "      <td>riverside</td>\n",
       "      <td>33.965140</td>\n",
       "      <td>-117.476400</td>\n",
       "      <td>CAL FIRE/Riverside County Fire and Riverside C...</td>\n",
       "      <td>Riverdale Fire</td>\n",
       "      <td>40.0</td>\n",
       "      <td>2017-12-04 12:26:00+00:00</td>\n",
       "      <td>2018-01-09 13:47:00+00:00</td>\n",
       "      <td>36.0</td>\n",
       "      <td>...</td>\n",
       "      <td>31.863636</td>\n",
       "      <td>0.0</td>\n",
       "      <td>0.000690</td>\n",
       "      <td>81.227273</td>\n",
       "      <td>252.454545</td>\n",
       "      <td>0.000667</td>\n",
       "      <td>0.0</td>\n",
       "      <td>57.077273</td>\n",
       "      <td>70.222727</td>\n",
       "      <td>43.940909</td>\n",
       "    </tr>\n",
       "  </tbody>\n",
       "</table>\n",
       "<p>5 rows × 40 columns</p>\n",
       "</div>"
      ],
      "text/plain": [
       "  CountyIds         COUNTY   Latitude   Longitude  \\\n",
       "0     42,56  santa barbara  34.415210 -119.091240   \n",
       "1        42  santa barbara  34.717960 -120.270770   \n",
       "2        42  santa barbara  34.605358 -120.414875   \n",
       "3     42,56        ventura  34.415210 -119.091240   \n",
       "4        33      riverside  33.965140 -117.476400   \n",
       "\n",
       "                                           AdminUnit            Name  \\\n",
       "0    US Forest Service - Los Padres National Forest      Thomas Fire   \n",
       "1                          Santa Barbara County Fire       Drum Fire   \n",
       "2                          Santa Barbara County Fire      Coast Fire   \n",
       "3    US Forest Service - Los Padres National Forest      Thomas Fire   \n",
       "4  CAL FIRE/Riverside County Fire and Riverside C...  Riverdale Fire   \n",
       "\n",
       "   AcresBurned                    Started               Extinguished  \\\n",
       "0     281893.0  2017-12-04 18:28:00+00:00  2019-03-14 11:24:00+00:00   \n",
       "1         14.0  2017-12-16 12:21:00+00:00  2018-01-09 13:49:00+00:00   \n",
       "2         14.0  2017-12-14 12:59:00+00:00  2018-01-09 13:49:00+00:00   \n",
       "3     281893.0  2017-12-04 18:28:00+00:00  2019-03-14 11:24:00+00:00   \n",
       "4         40.0  2017-12-04 12:26:00+00:00  2018-01-09 13:47:00+00:00   \n",
       "\n",
       "   Duration  ...       EMNT  EMSN      EMXP       EMXT        HTDD      PRCP  \\\n",
       "0     464.0  ...  33.076923   0.0  0.006000  81.153846  265.076923  0.007273   \n",
       "1      24.0  ...  33.076923   0.0  0.006000  81.153846  265.076923  0.007273   \n",
       "2      26.0  ...  33.076923   0.0  0.006000  81.153846  265.076923  0.007273   \n",
       "3     464.0  ...  31.583333   0.0  0.000909  83.916667  281.666667  0.000909   \n",
       "4      36.0  ...  31.863636   0.0  0.000690  81.227273  252.454545  0.000667   \n",
       "\n",
       "   SNOW       TAVG       TMAX       TMIN  \n",
       "0   0.0  56.830769  69.884615  43.807692  \n",
       "1   0.0  56.830769  69.884615  43.807692  \n",
       "2   0.0  56.830769  69.884615  43.807692  \n",
       "3   0.0  56.675000  70.583333  42.758333  \n",
       "4   0.0  57.077273  70.222727  43.940909  \n",
       "\n",
       "[5 rows x 40 columns]"
      ]
     },
     "execution_count": 84,
     "metadata": {},
     "output_type": "execute_result"
    }
   ],
   "source": [
    "master.head()"
   ]
  },
  {
   "cell_type": "markdown",
   "metadata": {},
   "source": [
    "---"
   ]
  },
  {
   "cell_type": "markdown",
   "metadata": {},
   "source": [
    "**BELOW:** Defining bins for the number of acres burned in a fire, then appending them as a new column to our master dataframe. The bins will ultimately be our target variable, and are defined as follows:\n",
    "- **Bin 0:** 50 acres or below\n",
    "- **Bin 1:** 100 acres or below, and greater than 50 acres\n",
    "- **Bin 2:** 250 acres or below, and greater than 100 acres\n",
    "- **Bin 3:** 500 acres or below, and greater than 250 acres\n",
    "- **Bin 4:** 1000 acres or below, and greater than 500 acres\n",
    "- **Bin 5:** Greater than 1000 acres"
   ]
  },
  {
   "cell_type": "code",
   "execution_count": 85,
   "metadata": {},
   "outputs": [],
   "source": [
    "# Engineering a new column, 'acres_burned_bin'\n",
    "bins = []\n",
    "for x in master['AcresBurned']:\n",
    "    if x <= 50:\n",
    "        bins.append(0)\n",
    "    elif x>50 and x <= 100:\n",
    "        bins.append(1)\n",
    "    elif x >100 and x <= 250:\n",
    "        bins.append(2)\n",
    "    elif x > 250 and x <= 500:\n",
    "        bins.append(3)\n",
    "    elif x > 500 and x <= 1000:\n",
    "        bins.append(4)\n",
    "    elif x > 1000:\n",
    "        bins.append(5)\n",
    "master['fire_bins'] = bins"
   ]
  },
  {
   "cell_type": "markdown",
   "metadata": {},
   "source": [
    "---"
   ]
  },
  {
   "cell_type": "code",
   "execution_count": 86,
   "metadata": {},
   "outputs": [],
   "source": [
    "# Defining a list of columns to drop\n",
    "drops = ['CountyIds', 'ArchiveYear', 'time/place']\n",
    "\n",
    "# Dropping unnecessary columns\n",
    "master = master.drop(columns=drops)\n",
    "\n",
    "# Lowercasing all column names\n",
    "master.columns = master.columns.str.lower()"
   ]
  },
  {
   "cell_type": "code",
   "execution_count": 87,
   "metadata": {},
   "outputs": [
    {
     "data": {
      "text/plain": [
       "Index(['county', 'latitude', 'longitude', 'adminunit', 'name', 'acresburned',\n",
       "       'started', 'extinguished', 'duration', 'percentcontained',\n",
       "       'majorincident', 'time', 'value', 'value_std_dev', 'nvalue', 'qcflag',\n",
       "       'cldd', 'elevation', 'awnd', 'dp01', 'dp10', 'dsnd', 'dt00', 'dt32',\n",
       "       'dx32', 'dx70', 'dx90', 'emnt', 'emsn', 'emxp', 'emxt', 'htdd', 'prcp',\n",
       "       'snow', 'tavg', 'tmax', 'tmin', 'fire_bins'],\n",
       "      dtype='object')"
      ]
     },
     "execution_count": 87,
     "metadata": {},
     "output_type": "execute_result"
    }
   ],
   "source": [
    "master.columns"
   ]
  },
  {
   "cell_type": "code",
   "execution_count": 88,
   "metadata": {},
   "outputs": [],
   "source": [
    "# Renaming columns for more clarity\n",
    "master = master.rename(columns={'county_x': 'county', 'name': 'fire_name', 'adminunit': 'admin_unit', 'acresburned': 'acres_burned', 'percentcontained': 'pct_contained',\n",
    "                       'majorincident': 'major_incident', 'time': 'date', 'value': 'co2_measured_mole_fraction', 'nvalue': 'co2_number_of_measurements',\n",
    "                       'qcflag': 'qc_flag', 'awnd': 'avg_wind_speed', 'cldd': 'cooling_degree_days', 'emnt': 'extreme_min_temp', 'emsn': 'highest_daily_snowfall',\n",
    "                       'emxp': 'highest_daily_precipitation', 'emxt': 'extreme_max_temp', 'htdd': 'heating_degree_days', 'prcp': 'total_monthly_precipitation',\n",
    "                       'snow': 'total_monthly_snowfall', 'tavg': 'avg_monthly_temp', 'tmax': 'max_monthly_temp', 'tmin': 'min_monthly_temp'})\n",
    "\n",
    "# Sorting columns for more clarity\n",
    "master = master[['date', 'county', 'latitude', 'longitude', 'fire_name', 'acres_burned', 'fire_bins', 'duration', 'started', 'extinguished', 'pct_contained', \n",
    "                 'major_incident', 'admin_unit', 'avg_wind_speed', 'avg_monthly_temp', 'max_monthly_temp', 'extreme_max_temp', 'min_monthly_temp', \n",
    "                 'extreme_min_temp', 'total_monthly_precipitation', 'highest_daily_precipitation', 'total_monthly_snowfall', 'highest_daily_snowfall', \n",
    "                 'dsnd', 'dp01', 'dp10', 'dt00', 'dt32', 'dx32', 'dx70', 'cooling_degree_days', 'heating_degree_days', 'elevation', 'co2_measured_mole_fraction', \n",
    "                 'value_std_dev', 'co2_number_of_measurements', 'qc_flag']]"
   ]
  },
  {
   "cell_type": "code",
   "execution_count": 89,
   "metadata": {},
   "outputs": [
    {
     "data": {
      "text/html": [
       "<div>\n",
       "<style scoped>\n",
       "    .dataframe tbody tr th:only-of-type {\n",
       "        vertical-align: middle;\n",
       "    }\n",
       "\n",
       "    .dataframe tbody tr th {\n",
       "        vertical-align: top;\n",
       "    }\n",
       "\n",
       "    .dataframe thead th {\n",
       "        text-align: right;\n",
       "    }\n",
       "</style>\n",
       "<table border=\"1\" class=\"dataframe\">\n",
       "  <thead>\n",
       "    <tr style=\"text-align: right;\">\n",
       "      <th></th>\n",
       "      <th>date</th>\n",
       "      <th>county</th>\n",
       "      <th>latitude</th>\n",
       "      <th>longitude</th>\n",
       "      <th>fire_name</th>\n",
       "      <th>acres_burned</th>\n",
       "      <th>fire_bins</th>\n",
       "      <th>duration</th>\n",
       "      <th>started</th>\n",
       "      <th>extinguished</th>\n",
       "      <th>...</th>\n",
       "      <th>dt32</th>\n",
       "      <th>dx32</th>\n",
       "      <th>dx70</th>\n",
       "      <th>cooling_degree_days</th>\n",
       "      <th>heating_degree_days</th>\n",
       "      <th>elevation</th>\n",
       "      <th>co2_measured_mole_fraction</th>\n",
       "      <th>value_std_dev</th>\n",
       "      <th>co2_number_of_measurements</th>\n",
       "      <th>qc_flag</th>\n",
       "    </tr>\n",
       "  </thead>\n",
       "  <tbody>\n",
       "    <tr>\n",
       "      <th>0</th>\n",
       "      <td>2017-12-01</td>\n",
       "      <td>santa barbara</td>\n",
       "      <td>34.415210</td>\n",
       "      <td>-119.091240</td>\n",
       "      <td>Thomas Fire</td>\n",
       "      <td>281893.0</td>\n",
       "      <td>5</td>\n",
       "      <td>464.0</td>\n",
       "      <td>2017-12-04 18:28:00+00:00</td>\n",
       "      <td>2019-03-14 11:24:00+00:00</td>\n",
       "      <td>...</td>\n",
       "      <td>3.692308</td>\n",
       "      <td>0.0</td>\n",
       "      <td>15.692308</td>\n",
       "      <td>12.153846</td>\n",
       "      <td>265.076923</td>\n",
       "      <td>222.547059</td>\n",
       "      <td>407.21</td>\n",
       "      <td>0.24</td>\n",
       "      <td>14</td>\n",
       "      <td>pass</td>\n",
       "    </tr>\n",
       "    <tr>\n",
       "      <th>1</th>\n",
       "      <td>2017-12-01</td>\n",
       "      <td>santa barbara</td>\n",
       "      <td>34.717960</td>\n",
       "      <td>-120.270770</td>\n",
       "      <td>Drum Fire</td>\n",
       "      <td>14.0</td>\n",
       "      <td>0</td>\n",
       "      <td>24.0</td>\n",
       "      <td>2017-12-16 12:21:00+00:00</td>\n",
       "      <td>2018-01-09 13:49:00+00:00</td>\n",
       "      <td>...</td>\n",
       "      <td>3.692308</td>\n",
       "      <td>0.0</td>\n",
       "      <td>15.692308</td>\n",
       "      <td>12.153846</td>\n",
       "      <td>265.076923</td>\n",
       "      <td>222.547059</td>\n",
       "      <td>407.70</td>\n",
       "      <td>0.06</td>\n",
       "      <td>7</td>\n",
       "      <td>pass</td>\n",
       "    </tr>\n",
       "    <tr>\n",
       "      <th>2</th>\n",
       "      <td>2017-12-01</td>\n",
       "      <td>santa barbara</td>\n",
       "      <td>34.605358</td>\n",
       "      <td>-120.414875</td>\n",
       "      <td>Coast Fire</td>\n",
       "      <td>14.0</td>\n",
       "      <td>0</td>\n",
       "      <td>26.0</td>\n",
       "      <td>2017-12-14 12:59:00+00:00</td>\n",
       "      <td>2018-01-09 13:49:00+00:00</td>\n",
       "      <td>...</td>\n",
       "      <td>3.692308</td>\n",
       "      <td>0.0</td>\n",
       "      <td>15.692308</td>\n",
       "      <td>12.153846</td>\n",
       "      <td>265.076923</td>\n",
       "      <td>222.547059</td>\n",
       "      <td>406.14</td>\n",
       "      <td>0.16</td>\n",
       "      <td>10</td>\n",
       "      <td>pass</td>\n",
       "    </tr>\n",
       "    <tr>\n",
       "      <th>3</th>\n",
       "      <td>2017-12-01</td>\n",
       "      <td>ventura</td>\n",
       "      <td>34.415210</td>\n",
       "      <td>-119.091240</td>\n",
       "      <td>Thomas Fire</td>\n",
       "      <td>281893.0</td>\n",
       "      <td>5</td>\n",
       "      <td>464.0</td>\n",
       "      <td>2017-12-04 18:28:00+00:00</td>\n",
       "      <td>2019-03-14 11:24:00+00:00</td>\n",
       "      <td>...</td>\n",
       "      <td>7.000000</td>\n",
       "      <td>0.0</td>\n",
       "      <td>16.833333</td>\n",
       "      <td>23.416667</td>\n",
       "      <td>281.666667</td>\n",
       "      <td>446.005556</td>\n",
       "      <td>407.21</td>\n",
       "      <td>0.24</td>\n",
       "      <td>14</td>\n",
       "      <td>pass</td>\n",
       "    </tr>\n",
       "    <tr>\n",
       "      <th>4</th>\n",
       "      <td>2017-12-01</td>\n",
       "      <td>riverside</td>\n",
       "      <td>33.965140</td>\n",
       "      <td>-117.476400</td>\n",
       "      <td>Riverdale Fire</td>\n",
       "      <td>40.0</td>\n",
       "      <td>0</td>\n",
       "      <td>36.0</td>\n",
       "      <td>2017-12-04 12:26:00+00:00</td>\n",
       "      <td>2018-01-09 13:47:00+00:00</td>\n",
       "      <td>...</td>\n",
       "      <td>2.681818</td>\n",
       "      <td>0.0</td>\n",
       "      <td>17.318182</td>\n",
       "      <td>12.045455</td>\n",
       "      <td>252.454545</td>\n",
       "      <td>534.661905</td>\n",
       "      <td>407.21</td>\n",
       "      <td>0.24</td>\n",
       "      <td>14</td>\n",
       "      <td>pass</td>\n",
       "    </tr>\n",
       "  </tbody>\n",
       "</table>\n",
       "<p>5 rows × 37 columns</p>\n",
       "</div>"
      ],
      "text/plain": [
       "         date         county   latitude   longitude       fire_name  \\\n",
       "0  2017-12-01  santa barbara  34.415210 -119.091240     Thomas Fire   \n",
       "1  2017-12-01  santa barbara  34.717960 -120.270770       Drum Fire   \n",
       "2  2017-12-01  santa barbara  34.605358 -120.414875      Coast Fire   \n",
       "3  2017-12-01        ventura  34.415210 -119.091240     Thomas Fire   \n",
       "4  2017-12-01      riverside  33.965140 -117.476400  Riverdale Fire   \n",
       "\n",
       "   acres_burned  fire_bins  duration                    started  \\\n",
       "0      281893.0          5     464.0  2017-12-04 18:28:00+00:00   \n",
       "1          14.0          0      24.0  2017-12-16 12:21:00+00:00   \n",
       "2          14.0          0      26.0  2017-12-14 12:59:00+00:00   \n",
       "3      281893.0          5     464.0  2017-12-04 18:28:00+00:00   \n",
       "4          40.0          0      36.0  2017-12-04 12:26:00+00:00   \n",
       "\n",
       "                extinguished  ...      dt32  dx32       dx70  \\\n",
       "0  2019-03-14 11:24:00+00:00  ...  3.692308   0.0  15.692308   \n",
       "1  2018-01-09 13:49:00+00:00  ...  3.692308   0.0  15.692308   \n",
       "2  2018-01-09 13:49:00+00:00  ...  3.692308   0.0  15.692308   \n",
       "3  2019-03-14 11:24:00+00:00  ...  7.000000   0.0  16.833333   \n",
       "4  2018-01-09 13:47:00+00:00  ...  2.681818   0.0  17.318182   \n",
       "\n",
       "   cooling_degree_days  heating_degree_days   elevation  \\\n",
       "0            12.153846           265.076923  222.547059   \n",
       "1            12.153846           265.076923  222.547059   \n",
       "2            12.153846           265.076923  222.547059   \n",
       "3            23.416667           281.666667  446.005556   \n",
       "4            12.045455           252.454545  534.661905   \n",
       "\n",
       "   co2_measured_mole_fraction  value_std_dev  co2_number_of_measurements  \\\n",
       "0                      407.21           0.24                          14   \n",
       "1                      407.70           0.06                           7   \n",
       "2                      406.14           0.16                          10   \n",
       "3                      407.21           0.24                          14   \n",
       "4                      407.21           0.24                          14   \n",
       "\n",
       "   qc_flag  \n",
       "0     pass  \n",
       "1     pass  \n",
       "2     pass  \n",
       "3     pass  \n",
       "4     pass  \n",
       "\n",
       "[5 rows x 37 columns]"
      ]
     },
     "execution_count": 89,
     "metadata": {},
     "output_type": "execute_result"
    }
   ],
   "source": [
    "master.head()"
   ]
  },
  {
   "cell_type": "markdown",
   "metadata": {},
   "source": [
    "---"
   ]
  },
  {
   "cell_type": "code",
   "execution_count": 90,
   "metadata": {},
   "outputs": [
    {
     "data": {
      "text/plain": [
       "date                             0\n",
       "county                           0\n",
       "latitude                         0\n",
       "longitude                        0\n",
       "fire_name                        0\n",
       "acres_burned                     0\n",
       "fire_bins                        0\n",
       "duration                        54\n",
       "started                          0\n",
       "extinguished                    54\n",
       "pct_contained                    3\n",
       "major_incident                   0\n",
       "admin_unit                       0\n",
       "avg_wind_speed                 184\n",
       "avg_monthly_temp                 4\n",
       "max_monthly_temp                 4\n",
       "extreme_max_temp                 4\n",
       "min_monthly_temp                 4\n",
       "extreme_min_temp                 4\n",
       "total_monthly_precipitation      0\n",
       "highest_daily_precipitation      0\n",
       "total_monthly_snowfall           2\n",
       "highest_daily_snowfall           2\n",
       "dsnd                            68\n",
       "dp01                             0\n",
       "dp10                             0\n",
       "dt00                             4\n",
       "dt32                             4\n",
       "dx32                             4\n",
       "dx70                             4\n",
       "cooling_degree_days              4\n",
       "heating_degree_days              4\n",
       "elevation                        0\n",
       "co2_measured_mole_fraction       0\n",
       "value_std_dev                    0\n",
       "co2_number_of_measurements       0\n",
       "qc_flag                          0\n",
       "dtype: int64"
      ]
     },
     "execution_count": 90,
     "metadata": {},
     "output_type": "execute_result"
    }
   ],
   "source": [
    "master.isnull().sum()"
   ]
  },
  {
   "cell_type": "code",
   "execution_count": 91,
   "metadata": {},
   "outputs": [],
   "source": [
    "# Imputing small amounts of missing data with feature means where appropriate\n",
    "\n",
    "master['pct_contained'].fillna((master['pct_contained'].mean()), inplace=True)\n",
    "master['avg_monthly_temp'].fillna((master['avg_monthly_temp'].mean()), inplace=True)\n",
    "master['max_monthly_temp'].fillna((master['max_monthly_temp'].mean()), inplace=True)\n",
    "master['extreme_max_temp'].fillna((master['extreme_max_temp'].mean()), inplace=True)\n",
    "master['min_monthly_temp'].fillna((master['min_monthly_temp'].mean()), inplace=True)\n",
    "master['extreme_min_temp'].fillna((master['extreme_min_temp'].mean()), inplace=True)\n",
    "master['total_monthly_snowfall'].fillna((master['total_monthly_snowfall'].mean()), inplace=True)\n",
    "master['highest_daily_snowfall'].fillna((master['highest_daily_snowfall'].mean()), inplace=True)\n",
    "master['dt00'].fillna((master['dt00'].mean()), inplace=True)\n",
    "master['dt32'].fillna((master['dt32'].mean()), inplace=True)\n",
    "master['dx32'].fillna((master['dx32'].mean()), inplace=True)\n",
    "master['dx70'].fillna((master['dx70'].mean()), inplace=True)\n",
    "master['cooling_degree_days'].fillna((master['cooling_degree_days'].mean()), inplace=True)\n",
    "master['heating_degree_days'].fillna((master['heating_degree_days'].mean()), inplace=True)"
   ]
  },
  {
   "cell_type": "code",
   "execution_count": 92,
   "metadata": {},
   "outputs": [
    {
     "data": {
      "text/plain": [
       "date                             0\n",
       "county                           0\n",
       "latitude                         0\n",
       "longitude                        0\n",
       "fire_name                        0\n",
       "acres_burned                     0\n",
       "fire_bins                        0\n",
       "duration                        54\n",
       "started                          0\n",
       "extinguished                    54\n",
       "pct_contained                    0\n",
       "major_incident                   0\n",
       "admin_unit                       0\n",
       "avg_wind_speed                 184\n",
       "avg_monthly_temp                 0\n",
       "max_monthly_temp                 0\n",
       "extreme_max_temp                 0\n",
       "min_monthly_temp                 0\n",
       "extreme_min_temp                 0\n",
       "total_monthly_precipitation      0\n",
       "highest_daily_precipitation      0\n",
       "total_monthly_snowfall           0\n",
       "highest_daily_snowfall           0\n",
       "dsnd                            68\n",
       "dp01                             0\n",
       "dp10                             0\n",
       "dt00                             0\n",
       "dt32                             0\n",
       "dx32                             0\n",
       "dx70                             0\n",
       "cooling_degree_days              0\n",
       "heating_degree_days              0\n",
       "elevation                        0\n",
       "co2_measured_mole_fraction       0\n",
       "value_std_dev                    0\n",
       "co2_number_of_measurements       0\n",
       "qc_flag                          0\n",
       "dtype: int64"
      ]
     },
     "execution_count": 92,
     "metadata": {},
     "output_type": "execute_result"
    }
   ],
   "source": [
    "master.isnull().sum()"
   ]
  },
  {
   "cell_type": "markdown",
   "metadata": {},
   "source": [
    "---"
   ]
  },
  {
   "cell_type": "code",
   "execution_count": 93,
   "metadata": {},
   "outputs": [],
   "source": [
    "master.to_csv('../data_clean/true_df_nb1.csv', index = False)"
   ]
  }
 ],
 "metadata": {
  "kernelspec": {
   "display_name": "Python 3",
   "language": "python",
   "name": "python3"
  },
  "language_info": {
   "codemirror_mode": {
    "name": "ipython",
    "version": 3
   },
   "file_extension": ".py",
   "mimetype": "text/x-python",
   "name": "python",
   "nbconvert_exporter": "python",
   "pygments_lexer": "ipython3",
   "version": "3.7.7"
  }
 },
 "nbformat": 4,
 "nbformat_minor": 4
}
