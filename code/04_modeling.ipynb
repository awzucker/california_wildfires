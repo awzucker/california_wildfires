{
 "cells": [
  {
   "cell_type": "markdown",
   "metadata": {},
   "source": [
    "<img src=\"http://imgur.com/1ZcRyrc.png\" style=\"float: left; margin: 20px; height: 55px\">\n",
    "\n",
    "# Project 5 | Notebook 4: Modeling\n",
    "\n",
    "### Carly Sharma, Jake Parker, & Adam Zucker"
   ]
  },
  {
   "cell_type": "markdown",
   "metadata": {},
   "source": [
    "**CONTENTS:**\n",
    "- Classification models based on our master dataframe, `true_df.csv`, and dummified master dataframe, `dummy_df.csv`. Models run:\n",
    "    - Logistic Regression\n",
    "    - $k$ Nearest Neighbors\n",
    "    - Random Forest Classifier\n",
    "    - Support Vector Classification\n",
    "    - Convolutional Neural Network\n",
    "<br>\n",
    "<br>\n",
    "- Data in our master dataframe was sourced from:\n",
    "    - [Kaggle's](https://www.kaggle.com/ananthu017/california-wildfire-incidents-20132020?select=California_Fire_Incidents.csv) California Wildfire Incidents dataset\n",
    "    - [NOAA](https://www.ncei.noaa.gov/metadata/geoportal/rest/metadata/item/gov.noaa.ncdc:C00946/html) Meteorological data\n",
    "    - Atmospheric carbon data collected by [NOAA/Mauna Loa Observatory](https://www.esrl.noaa.gov/gmd/dv/data/index.php?parameter_name=Carbon%2BDioxide&search=mauna+loa))"
   ]
  },
  {
   "cell_type": "markdown",
   "metadata": {},
   "source": [
    "**BELOW:** Package and data imports"
   ]
  },
  {
   "cell_type": "code",
   "execution_count": 1,
   "metadata": {},
   "outputs": [],
   "source": [
    "import pandas as pd\n",
    "import numpy as np\n",
    "import matplotlib.pyplot as plt\n",
    "import seaborn as sns\n",
    "\n",
    "from sklearn.preprocessing import StandardScaler\n",
    "from sklearn.pipeline import Pipeline\n",
    "from sklearn.model_selection import train_test_split, cross_val_score, GridSearchCV\n",
    "from sklearn.linear_model import LogisticRegression\n",
    "from sklearn.neighbors import KNeighborsClassifier\n",
    "\n",
    "from sklearn import metrics\n",
    "from sklearn.naive_bayes import MultinomialNB\n",
    "from sklearn.ensemble import RandomForestClassifier, AdaBoostClassifier, VotingClassifier\n",
    "from sklearn.svm import SVC\n",
    "\n",
    "from tensorflow.keras import utils\n",
    "from tensorflow.keras.utils import to_categorical\n",
    "from tensorflow.keras.models import Sequential\n",
    "from tensorflow.keras.layers import Dense, Dropout\n",
    "from tensorflow.keras.callbacks import EarlyStopping\n",
    "from tensorflow.keras.optimizers import Adam\n",
    "from tensorflow.keras.utils import plot_model\n",
    "from tensorflow.keras.regularizers import l1, l2, l1_l2"
   ]
  },
  {
   "cell_type": "code",
   "execution_count": 2,
   "metadata": {},
   "outputs": [],
   "source": [
    "df = pd.read_csv('../data_clean/true_df.csv')\n",
    "dummy_df = pd.read_csv('../data_clean/dummy_df.csv')"
   ]
  },
  {
   "cell_type": "code",
   "execution_count": 3,
   "metadata": {},
   "outputs": [],
   "source": [
    "# Dropping unnecessary features from the master df\n",
    "df = df.drop(columns=['highest_daily_snowfall', 'cooling_degree_days', 'admin_unit', \n",
    "                      'fire_name', 'extinguished', 'qc_flag'])"
   ]
  },
  {
   "cell_type": "code",
   "execution_count": 4,
   "metadata": {},
   "outputs": [
    {
     "data": {
      "text/plain": [
       "date                           0\n",
       "county                         0\n",
       "latitude                       0\n",
       "longitude                      0\n",
       "acres_burned                   0\n",
       "fire_bins                      0\n",
       "duration                       0\n",
       "started                        0\n",
       "major_incident                 0\n",
       "avg_wind_speed                 0\n",
       "avg_monthly_temp               0\n",
       "extreme_max_temp               0\n",
       "extreme_min_temp               0\n",
       "total_monthly_precipitation    0\n",
       "total_monthly_snowfall         0\n",
       "dsnd                           0\n",
       "dp10                           0\n",
       "dt00                           0\n",
       "dt32                           0\n",
       "dx32                           0\n",
       "dx70                           0\n",
       "elevation                      0\n",
       "co2_measured_mole_fraction     0\n",
       "temp_range                     0\n",
       "month                          0\n",
       "season                         0\n",
       "dtype: int64"
      ]
     },
     "execution_count": 4,
     "metadata": {},
     "output_type": "execute_result"
    }
   ],
   "source": [
    "df.isnull().sum()"
   ]
  },
  {
   "cell_type": "code",
   "execution_count": 5,
   "metadata": {},
   "outputs": [
    {
     "data": {
      "text/plain": [
       "int64      69\n",
       "float64    19\n",
       "object      1\n",
       "dtype: int64"
      ]
     },
     "execution_count": 5,
     "metadata": {},
     "output_type": "execute_result"
    }
   ],
   "source": [
    "dummy_df.dtypes.value_counts()"
   ]
  },
  {
   "cell_type": "markdown",
   "metadata": {},
   "source": [
    "---"
   ]
  },
  {
   "cell_type": "code",
   "execution_count": 7,
   "metadata": {},
   "outputs": [],
   "source": [
    "# Defining X and y\n",
    "X = dummy_df.drop(columns=['date', 'fire_bins'])\n",
    "y = dummy_df['fire_bins']\n",
    "\n",
    "# Instantiating a train test split\n",
    "X_train, X_test, y_train, y_test = train_test_split(X, y, stratify=y, test_size = 0.2, random_state=42)\n",
    "\n",
    "# Scaling data\n",
    "ss = StandardScaler()\n",
    "X_train_sc = ss.fit_transform(X_train)\n",
    "X_test_sc = ss.transform(X_test)"
   ]
  },
  {
   "cell_type": "markdown",
   "metadata": {},
   "source": [
    "**Baseline accuracy:**"
   ]
  },
  {
   "cell_type": "code",
   "execution_count": 8,
   "metadata": {},
   "outputs": [
    {
     "data": {
      "text/plain": [
       "1    0.389195\n",
       "6    0.164278\n",
       "3    0.160970\n",
       "2    0.155458\n",
       "4    0.078280\n",
       "5    0.051819\n",
       "Name: fire_bins, dtype: float64"
      ]
     },
     "execution_count": 8,
     "metadata": {},
     "output_type": "execute_result"
    }
   ],
   "source": [
    "y.value_counts(normalize=True)"
   ]
  },
  {
   "cell_type": "markdown",
   "metadata": {},
   "source": [
    "### Logistic Regression"
   ]
  },
  {
   "cell_type": "code",
   "execution_count": 24,
   "metadata": {},
   "outputs": [
    {
     "name": "stdout",
     "output_type": "stream",
     "text": [
      "Fitting 5 folds for each of 8 candidates, totalling 40 fits\n"
     ]
    },
    {
     "name": "stderr",
     "output_type": "stream",
     "text": [
      "[Parallel(n_jobs=1)]: Using backend SequentialBackend with 1 concurrent workers.\n",
      "[Parallel(n_jobs=1)]: Done  40 out of  40 | elapsed:   13.7s finished\n",
      "[Parallel(n_jobs=1)]: Using backend SequentialBackend with 1 concurrent workers.\n"
     ]
    },
    {
     "name": "stdout",
     "output_type": "stream",
     "text": [
      "Best Parameters         = {'fit_intercept': False, 'max_iter': 100, 'n_jobs': 3}\n",
      "Best Estimator to use   = LogisticRegression(fit_intercept=False, n_jobs=3)\n",
      "Best cross-value score  = 0.9806896551724137\n",
      "R^2 for Testing Date  = 0.9972413793103448\n",
      "R^2 for Testing Date  = 0.989010989010989\n",
      "Fitting 5 folds for each of 8 candidates, totalling 40 fits\n",
      "Best cross-value score Scaled = 0.4027586206896552\n",
      "R^2 for Testing Date Scaled = 0.5558620689655173\n",
      "R^2 for Testing Date Scaled = 0.42857142857142855\n"
     ]
    },
    {
     "name": "stderr",
     "output_type": "stream",
     "text": [
      "[Parallel(n_jobs=1)]: Done  40 out of  40 | elapsed:    2.4s finished\n"
     ]
    }
   ],
   "source": [
    "#Log Reggresion \n",
    "log = LogisticRegression(n_jobs=8)\n",
    "log_params = {\n",
    "    'fit_intercept' : [True,False],\n",
    "    'max_iter' : [100, 250, 500, 1000]\n",
    "}\n",
    "\n",
    "logistic_model_gridsearch = GridSearchCV(log, log_params, cv = 5)\n",
    "\n",
    "logistic_model_gridsearch.fit(X_train, y_train)\n",
    "\n",
    "print(f'Best Parameters         = {logistic_model_gridsearch.best_params_}')\n",
    "print(f'Best Estimator to use   = {logistic_model_gridsearch.best_estimator_}')\n",
    "print(f'Best cross-value score  = {logistic_model_gridsearch.best_score_}')\n",
    "print(f'R^2 for Testing Date    = {logistic_model_gridsearch.score(X_train,y_train)}')\n",
    "print(f'R^2 for Testing Date    = {logistic_model_gridsearch.score(X_test,y_test)}')\n",
    "\n",
    "logistic_model_gridsearch.fit(X_train_sc, y_train)\n",
    "\n",
    "print(f'Best cross-value score Scaled = {logistic_model_gridsearch.best_score_}')\n",
    "print(f'R^2 for Testing Date Scaled   = {logistic_model_gridsearch.score(X_train_sc,y_train)}')\n",
    "print(f'R^2 for Testing Date Scaled   = {logistic_model_gridsearch.score(X_test_sc,y_test)}')"
   ]
  },
  {
   "cell_type": "code",
   "execution_count": null,
   "metadata": {},
   "outputs": [],
   "source": []
  },
  {
   "cell_type": "code",
   "execution_count": null,
   "metadata": {},
   "outputs": [],
   "source": []
  },
  {
   "cell_type": "code",
   "execution_count": null,
   "metadata": {},
   "outputs": [],
   "source": []
  },
  {
   "cell_type": "code",
   "execution_count": null,
   "metadata": {},
   "outputs": [],
   "source": []
  },
  {
   "cell_type": "markdown",
   "metadata": {},
   "source": [
    "---\n",
    "---\n",
    "### $k$ Nearest Neighbors"
   ]
  },
  {
   "cell_type": "code",
   "execution_count": null,
   "metadata": {},
   "outputs": [],
   "source": [
    "n_neightbors = [x for x in range(5,20,1)]\n",
    "knn = KNeighborsClassifier()\n",
    "knn_params = {\n",
    "    'n_neighbors' : n_neightbors,\n",
    "    'weights' : ['uniform','distance'],\n",
    "    'n_jobs' : [3],\n",
    "    'p' : [1,2],\n",
    "    'metric': ['euclidean', 'manhattan'],\n",
    "    'leaf_size' : [2,4,6,8,10,12]\n",
    "}\n",
    "\n",
    "knn_gridsearch = GridSearchCV(knn, param_grid=knn_params, cv=5, verbose = 1)\n",
    "\n",
    "knn_gridsearch.fit(X_train_sc,y_train)\n",
    "\n",
    "print(f'Best Parameters: {knn_gridsearch.best_params_}')\n",
    "print(f'Best Estimator to use: {knn_gridsearch.best_estimator_}')\n",
    "print(f'Best Cross-Value Score Scaled: {knn_gridsearch.best_score_}')\n",
    "print(f'R**2 for Training Date Scaled: {knn_gridsearch.score(X_train_sc,y_train)}')\n",
    "print(f'R**2 for Testing DateScaled: {knn_gridsearch.score(X_test_sc,y_test)}')"
   ]
  },
  {
   "cell_type": "code",
   "execution_count": null,
   "metadata": {},
   "outputs": [],
   "source": []
  },
  {
   "cell_type": "code",
   "execution_count": null,
   "metadata": {},
   "outputs": [],
   "source": []
  },
  {
   "cell_type": "code",
   "execution_count": null,
   "metadata": {},
   "outputs": [],
   "source": []
  },
  {
   "cell_type": "code",
   "execution_count": null,
   "metadata": {},
   "outputs": [],
   "source": []
  },
  {
   "cell_type": "markdown",
   "metadata": {},
   "source": [
    "---\n",
    "---\n",
    "### Random Forest"
   ]
  },
  {
   "cell_type": "markdown",
   "metadata": {},
   "source": [
    "---"
   ]
  },
  {
   "cell_type": "markdown",
   "metadata": {},
   "source": [
    "*Fitting to scaled X data*"
   ]
  },
  {
   "cell_type": "code",
   "execution_count": 9,
   "metadata": {},
   "outputs": [
    {
     "name": "stdout",
     "output_type": "stream",
     "text": [
      "Best Params       = {'ccp_alpha': 0, 'max_depth': 5, 'max_features': None, 'n_estimators': 5}\n",
      "Best Score        = 0.9986206896551725\n",
      "Training Accuracy = 1.0\n",
      "Testing Accuracy  = 1.0\n"
     ]
    }
   ],
   "source": [
    "# Instantiating random forest model\n",
    "rf = RandomForestClassifier(n_jobs=8)\n",
    "\n",
    "# Defining params to test in our RF model\n",
    "rf_params = {\n",
    "    'n_estimators': [5, 10, 25, 50],\n",
    "    'max_depth': [3, 5, 7, 15],\n",
    "    'max_features': [None, 'auto', 'log2'],\n",
    "    'ccp_alpha': [0, 0.01, 0.1]\n",
    "}\n",
    "\n",
    "# Instantiating a gridsearch\n",
    "rf_gs = GridSearchCV(rf, param_grid=rf_params, cv = 5)\n",
    "\n",
    "# Fitting RF model on scaled data\n",
    "rf_gs.fit(X_train_sc, y_train)\n",
    "\n",
    "print(f'Best Params       = {rf_gs.best_params_}')\n",
    "print(f'Best Score        = {rf_gs.best_score_}')\n",
    "print(f'Training Accuracy = {rf_gs.score(X_train_sc, y_train)}')\n",
    "print(f'Testing Accuracy  = {rf_gs.score(X_test_sc, y_test)}')"
   ]
  },
  {
   "cell_type": "code",
   "execution_count": null,
   "metadata": {},
   "outputs": [],
   "source": []
  },
  {
   "cell_type": "code",
   "execution_count": 10,
   "metadata": {},
   "outputs": [],
   "source": [
    "rf_preds_train = rf_gs.predict(X_train_sc)\n",
    "rf_preds_test = rf_gs.predict(X_test_sc)"
   ]
  },
  {
   "cell_type": "code",
   "execution_count": 11,
   "metadata": {},
   "outputs": [],
   "source": [
    "# f1_rf_train = metrics.f1_score(y_train, rf_preds_train)\n",
    "# f1_rf_test = metrics.f1_score(y_test, rf_preds_test)\n",
    "# print('Random Forest Training F1       = ', f1_rf_train)\n",
    "# print('Random Forest Testing F1        = ', f1_rf_test)"
   ]
  },
  {
   "cell_type": "code",
   "execution_count": null,
   "metadata": {},
   "outputs": [],
   "source": []
  },
  {
   "cell_type": "code",
   "execution_count": null,
   "metadata": {},
   "outputs": [],
   "source": []
  },
  {
   "cell_type": "markdown",
   "metadata": {},
   "source": []
  },
  {
   "cell_type": "markdown",
   "metadata": {},
   "source": [
    "*Fitting to unscaled X data*"
   ]
  },
  {
   "cell_type": "code",
   "execution_count": 12,
   "metadata": {},
   "outputs": [
    {
     "name": "stdout",
     "output_type": "stream",
     "text": [
      "Best Params       = {'ccp_alpha': 0, 'max_depth': 5, 'max_features': None, 'n_estimators': 25}\n",
      "Best Score        = 0.9986206896551725\n",
      "Training Accuracy = 1.0\n",
      "Testing Accuracy  = 1.0\n"
     ]
    }
   ],
   "source": [
    "rf = RandomForestClassifier(n_jobs=8)\n",
    "\n",
    "rf_params = {\n",
    "    'n_estimators': [25, 50, 75, 100],\n",
    "    'max_depth': [3, 5, 7, 15],\n",
    "    'max_features': [None, 'auto', 'log2'],\n",
    "    'ccp_alpha': [0, 0.01, 0.1]\n",
    "}\n",
    "\n",
    "rf_gs_us = GridSearchCV(rf, param_grid=rf_params, cv = 5)\n",
    "\n",
    "# Fitting RF model on unscaled data\n",
    "rf_gs_us.fit(X_train, y_train)\n",
    "\n",
    "print(f'Best Params       = {rf_gs_us.best_params_}')\n",
    "print(f'Best Score        = {rf_gs_us.best_score_}')\n",
    "print(f'Training Accuracy = {rf_gs_us.score(X_train, y_train)}')\n",
    "print(f'Testing Accuracy  = {rf_gs_us.score(X_test, y_test)}')"
   ]
  },
  {
   "cell_type": "code",
   "execution_count": null,
   "metadata": {},
   "outputs": [],
   "source": []
  },
  {
   "cell_type": "code",
   "execution_count": 13,
   "metadata": {},
   "outputs": [],
   "source": [
    "rf_us_preds_train = rf_gs_us.predict(X_train)\n",
    "rf_us_preds_test = rf_gs_us.predict(X_test)"
   ]
  },
  {
   "cell_type": "code",
   "execution_count": 14,
   "metadata": {},
   "outputs": [],
   "source": [
    "# # Calculating F1 score for random forest classification model\n",
    "# f1_rf_us_train = f1_score(y_train, rf_us_preds_train)\n",
    "# f1_rf_us_test = f1_score(y_test, rf_us_preds_test)\n",
    "# print('Random Forest Training F1       = ', f1_rf_us_train)\n",
    "# print('Random Forest Testing F1        = ', f1_rf_us_test)"
   ]
  },
  {
   "cell_type": "code",
   "execution_count": null,
   "metadata": {},
   "outputs": [],
   "source": []
  },
  {
   "cell_type": "markdown",
   "metadata": {},
   "source": [
    "---\n",
    "---\n",
    "### Support Vector Classification"
   ]
  },
  {
   "cell_type": "code",
   "execution_count": null,
   "metadata": {},
   "outputs": [],
   "source": []
  },
  {
   "cell_type": "code",
   "execution_count": 15,
   "metadata": {},
   "outputs": [
    {
     "name": "stdout",
     "output_type": "stream",
     "text": [
      "Best Params       = {'C': 4.7368421052631575, 'degree': 1, 'kernel': 'linear'}\n",
      "Best Score        = 0.4206896551724138\n",
      "Training Accuracy = 0.5793103448275863\n",
      "Testing Accuracy  = 0.43956043956043955\n"
     ]
    }
   ],
   "source": [
    "# Instantiating SVM.\n",
    "svc = SVC()\n",
    "\n",
    "svc_params = {\n",
    "    'C':np.linspace(0, 5, 20),\n",
    "    'kernel':['linear', 'rbf', 'polynomial', 'sigmoid'],\n",
    "    'degree':[1, 2, 3]\n",
    "}\n",
    "\n",
    "svc_gs = GridSearchCV(estimator=svc, param_grid=svc_params, cv=5, n_jobs=4)\n",
    "\n",
    "# Fitting RF model on scaled data\n",
    "svc_gs.fit(X_train_sc, y_train)\n",
    "\n",
    "print(f'Best Params       = {svc_gs.best_params_}')\n",
    "print(f'Best Score        = {svc_gs.best_score_}')\n",
    "print(f'Training Accuracy = {svc_gs.score(X_train_sc, y_train)}')\n",
    "print(f'Testing Accuracy  = {svc_gs.score(X_test_sc, y_test)}')"
   ]
  },
  {
   "cell_type": "code",
   "execution_count": null,
   "metadata": {},
   "outputs": [],
   "source": []
  },
  {
   "cell_type": "code",
   "execution_count": 16,
   "metadata": {},
   "outputs": [],
   "source": [
    "svc_preds_train = svc_gs.predict(X_train_sc)\n",
    "svc_preds_test = svc_gs.predict(X_test_sc)"
   ]
  },
  {
   "cell_type": "code",
   "execution_count": 17,
   "metadata": {},
   "outputs": [],
   "source": [
    "# f1_svc_train = f1_score(y_train, svc_preds_train)\n",
    "# f1_svc_test = f1_score(y_test, svc_preds_test)\n",
    "# print('SVC Training F1       = ', f1_svc_train)\n",
    "# print('SVC Testing F1        = ', f1_svc_test)"
   ]
  },
  {
   "cell_type": "code",
   "execution_count": null,
   "metadata": {},
   "outputs": [],
   "source": []
  },
  {
   "cell_type": "code",
   "execution_count": null,
   "metadata": {},
   "outputs": [],
   "source": []
  },
  {
   "cell_type": "markdown",
   "metadata": {},
   "source": [
    "---\n",
    "---\n",
    "### Convolutional Neural Network"
   ]
  },
  {
   "cell_type": "code",
   "execution_count": null,
   "metadata": {},
   "outputs": [],
   "source": []
  },
  {
   "cell_type": "code",
   "execution_count": 18,
   "metadata": {},
   "outputs": [],
   "source": [
    "nn = Sequential()\n",
    "\n",
    "# Input and first hidden layer\n",
    "nn.add(Dense(128, input_shape=(X_train_sc.shape[1],), activation='relu'))\n",
    "\n",
    "# Hidden layers\n",
    "nn.add(Dense(64, activation='relu'))\n",
    "nn.add(Dropout(0.5))\n",
    "nn.add(Dense(32, activation='relu'))\n",
    "nn.add(Dropout(0.5))\n",
    "nn.add(Dense(16, activation='relu'))\n",
    "\n",
    "# Output layer\n",
    "nn.add(Dense(6, activation='softmax'))\n",
    "\n",
    "nn.compile(loss='bce', optimizer='adam', metrics=['acc'])\n",
    "\n",
    "es = EarlyStopping(patience=3)\n",
    "\n",
    "# Defining history as fit NN model\n",
    "hist = nn.fit(X_train_sc, y_train,\n",
    "        validation_data=(X_test_sc, y_test),\n",
    "        epochs=25,\n",
    "        batch_size=256,\n",
    "        callbacks=es,\n",
    "        verbose=0)"
   ]
  },
  {
   "cell_type": "code",
   "execution_count": 19,
   "metadata": {},
   "outputs": [
    {
     "name": "stdout",
     "output_type": "stream",
     "text": [
      "Model: \"sequential\"\n",
      "_________________________________________________________________\n",
      "Layer (type)                 Output Shape              Param #   \n",
      "=================================================================\n",
      "dense (Dense)                (None, 128)               11264     \n",
      "_________________________________________________________________\n",
      "dense_1 (Dense)              (None, 64)                8256      \n",
      "_________________________________________________________________\n",
      "dropout (Dropout)            (None, 64)                0         \n",
      "_________________________________________________________________\n",
      "dense_2 (Dense)              (None, 32)                2080      \n",
      "_________________________________________________________________\n",
      "dropout_1 (Dropout)          (None, 32)                0         \n",
      "_________________________________________________________________\n",
      "dense_3 (Dense)              (None, 16)                528       \n",
      "_________________________________________________________________\n",
      "dense_4 (Dense)              (None, 6)                 102       \n",
      "=================================================================\n",
      "Total params: 22,230\n",
      "Trainable params: 22,230\n",
      "Non-trainable params: 0\n",
      "_________________________________________________________________\n"
     ]
    }
   ],
   "source": [
    "nn.summary()"
   ]
  },
  {
   "cell_type": "code",
   "execution_count": 20,
   "metadata": {},
   "outputs": [
    {
     "data": {
      "image/png": "[encoded data removed]",
      "text/plain": [
       "<IPython.core.display.Image object>"
      ]
     },
     "execution_count": 20,
     "metadata": {},
     "output_type": "execute_result"
    }
   ],
   "source": [
    "plot_model(nn, show_layer_names=True, show_shapes=True)"
   ]
  },
  {
   "cell_type": "code",
   "execution_count": null,
   "metadata": {},
   "outputs": [],
   "source": []
  },
  {
   "cell_type": "code",
   "execution_count": 21,
   "metadata": {},
   "outputs": [],
   "source": [
    "nn_preds = nn.predict(X_test_sc)"
   ]
  },
  {
   "cell_type": "code",
   "execution_count": null,
   "metadata": {},
   "outputs": [],
   "source": []
  },
  {
   "cell_type": "code",
   "execution_count": 22,
   "metadata": {},
   "outputs": [
    {
     "data": {
      "image/png": "[encoded data removed]",
      "text/plain": [
       "<Figure size 936x648 with 1 Axes>"
      ]
     },
     "metadata": {
      "needs_background": "light"
     },
     "output_type": "display_data"
    }
   ],
   "source": [
    "plt.figure(figsize=(13, 9))\n",
    "plt.plot(hist.history['acc'], label = 'Training Accuracy')\n",
    "plt.plot(hist.history['val_acc'], label = 'Testing Accuracy')\n",
    "plt.legend();"
   ]
  },
  {
   "cell_type": "code",
   "execution_count": null,
   "metadata": {},
   "outputs": [],
   "source": []
  },
  {
   "cell_type": "code",
   "execution_count": null,
   "metadata": {},
   "outputs": [],
   "source": []
  }
 ],
 "metadata": {
  "kernelspec": {
   "display_name": "Python 3",
   "language": "python",
   "name": "python3"
  },
  "language_info": {
   "codemirror_mode": {
    "name": "ipython",
    "version": 3
   },
   "file_extension": ".py",
   "mimetype": "text/x-python",
   "name": "python",
   "nbconvert_exporter": "python",
   "pygments_lexer": "ipython3",
   "version": "3.7.7"
  }
 },
 "nbformat": 4,
 "nbformat_minor": 4
}
